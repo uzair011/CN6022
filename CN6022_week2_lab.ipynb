{
  "nbformat": 4,
  "nbformat_minor": 0,
  "metadata": {
    "colab": {
      "provenance": []
    },
    "kernelspec": {
      "name": "python3",
      "display_name": "Python 3"
    },
    "language_info": {
      "name": "python"
    }
  },
  "cells": [
    {
      "cell_type": "code",
      "execution_count": 2,
      "metadata": {
        "colab": {
          "base_uri": "https://localhost:8080/"
        },
        "id": "GKL_JXKelKxv",
        "outputId": "150fa1c1-fed6-4cf8-bc87-56f680ebd327"
      },
      "outputs": [
        {
          "output_type": "stream",
          "name": "stdout",
          "text": [
            "Collecting pyspark\n",
            "  Downloading pyspark-3.5.3.tar.gz (317.3 MB)\n",
            "\u001b[2K     \u001b[90m━━━━━━━━━━━━━━━━━━━━━━━━━━━━━━━━━━━━━━━━\u001b[0m \u001b[32m317.3/317.3 MB\u001b[0m \u001b[31m4.9 MB/s\u001b[0m eta \u001b[36m0:00:00\u001b[0m\n",
            "\u001b[?25h  Preparing metadata (setup.py) ... \u001b[?25l\u001b[?25hdone\n",
            "Requirement already satisfied: py4j==0.10.9.7 in /usr/local/lib/python3.10/dist-packages (from pyspark) (0.10.9.7)\n",
            "Building wheels for collected packages: pyspark\n",
            "  Building wheel for pyspark (setup.py) ... \u001b[?25l\u001b[?25hdone\n",
            "  Created wheel for pyspark: filename=pyspark-3.5.3-py2.py3-none-any.whl size=317840625 sha256=9d181f83e09d50746d8fe850a4f451b5fe2a0ab64fbb41359f49710ba261d8a6\n",
            "  Stored in directory: /root/.cache/pip/wheels/1b/3a/92/28b93e2fbfdbb07509ca4d6f50c5e407f48dce4ddbda69a4ab\n",
            "Successfully built pyspark\n",
            "Installing collected packages: pyspark\n",
            "Successfully installed pyspark-3.5.3\n"
          ]
        }
      ],
      "source": [
        "!pip3 install pyspark"
      ]
    },
    {
      "cell_type": "code",
      "source": [
        "from pyspark import SparkContext, SparkConf"
      ],
      "metadata": {
        "id": "PpYdoljPmrav"
      },
      "execution_count": 5,
      "outputs": []
    },
    {
      "cell_type": "code",
      "source": [
        "configuration = SparkConf().setAppName(\"Week01\").setMaster(\"local[*]\")\n",
        "sc = SparkContext(conf=configuration)"
      ],
      "metadata": {
        "id": "Jq1RSq6inph1"
      },
      "execution_count": 6,
      "outputs": []
    },
    {
      "cell_type": "code",
      "source": [
        "data = [9, 8, 7, 6, 5, 4, 3, 2, 1, 0]"
      ],
      "metadata": {
        "id": "uyI8GmI7okeJ"
      },
      "execution_count": 7,
      "outputs": []
    },
    {
      "cell_type": "code",
      "source": [
        "x=sc.parallelize(data,2)"
      ],
      "metadata": {
        "id": "4RDDo9chpPEJ"
      },
      "execution_count": 12,
      "outputs": []
    },
    {
      "cell_type": "code",
      "source": [
        "x.collect()"
      ],
      "metadata": {
        "colab": {
          "base_uri": "https://localhost:8080/"
        },
        "id": "Qre6IrGlrNQF",
        "outputId": "5b825b4d-1f11-40aa-e368-5fafdc9093ca"
      },
      "execution_count": 13,
      "outputs": [
        {
          "output_type": "execute_result",
          "data": {
            "text/plain": [
              "[9, 8, 7, 6, 5, 4, 3, 2, 1, 0]"
            ]
          },
          "metadata": {},
          "execution_count": 13
        }
      ]
    },
    {
      "cell_type": "code",
      "source": [
        "x1 = x.map(lambda X:(X+2)*2)\n",
        "x1.collect()"
      ],
      "metadata": {
        "colab": {
          "base_uri": "https://localhost:8080/"
        },
        "id": "UprZm8G_rVZz",
        "outputId": "c0d492d0-6297-4253-ff17-dbdf1adf99b5"
      },
      "execution_count": 19,
      "outputs": [
        {
          "output_type": "execute_result",
          "data": {
            "text/plain": [
              "[22, 20, 18, 16, 14, 12, 10, 8, 6, 4]"
            ]
          },
          "metadata": {},
          "execution_count": 19
        }
      ]
    },
    {
      "cell_type": "code",
      "source": [
        "x2 = x.filter(lambda X:X%4 == 0)\n",
        "x2.collect()"
      ],
      "metadata": {
        "colab": {
          "base_uri": "https://localhost:8080/"
        },
        "id": "K9T-WjYwslmH",
        "outputId": "2666a9a3-088b-460a-818b-c9e0302a9970"
      },
      "execution_count": 20,
      "outputs": [
        {
          "output_type": "execute_result",
          "data": {
            "text/plain": [
              "[8, 4, 0]"
            ]
          },
          "metadata": {},
          "execution_count": 20
        }
      ]
    },
    {
      "cell_type": "code",
      "source": [
        "x3 = sc.parallelize([4,2,2,6,7,7,18,40,41,40,40,7])\n",
        "x3.distinct().collect()"
      ],
      "metadata": {
        "colab": {
          "base_uri": "https://localhost:8080/"
        },
        "id": "BN7lIMubtTwA",
        "outputId": "8c30bef1-aa8c-42dd-d594-117cfcfc0732"
      },
      "execution_count": 24,
      "outputs": [
        {
          "output_type": "execute_result",
          "data": {
            "text/plain": [
              "[4, 2, 6, 18, 40, 7, 41]"
            ]
          },
          "metadata": {},
          "execution_count": 24
        }
      ]
    },
    {
      "cell_type": "code",
      "source": [
        "x4=x.flatMap(lambda x: [x,x+2,x+7])\n",
        "x4.collect()"
      ],
      "metadata": {
        "colab": {
          "base_uri": "https://localhost:8080/"
        },
        "id": "djSuClaOwKhk",
        "outputId": "2ec8184a-4370-4186-fa47-9d8f429528ae"
      },
      "execution_count": 25,
      "outputs": [
        {
          "output_type": "execute_result",
          "data": {
            "text/plain": [
              "[9,\n",
              " 11,\n",
              " 16,\n",
              " 8,\n",
              " 10,\n",
              " 15,\n",
              " 7,\n",
              " 9,\n",
              " 14,\n",
              " 6,\n",
              " 8,\n",
              " 13,\n",
              " 5,\n",
              " 7,\n",
              " 12,\n",
              " 4,\n",
              " 6,\n",
              " 11,\n",
              " 3,\n",
              " 5,\n",
              " 10,\n",
              " 2,\n",
              " 4,\n",
              " 9,\n",
              " 1,\n",
              " 3,\n",
              " 8,\n",
              " 0,\n",
              " 2,\n",
              " 7]"
            ]
          },
          "metadata": {},
          "execution_count": 25
        }
      ]
    },
    {
      "cell_type": "code",
      "source": [
        "x4.reduce(lambda a,b : a + b)"
      ],
      "metadata": {
        "colab": {
          "base_uri": "https://localhost:8080/"
        },
        "id": "GfZ5Msqvw6qk",
        "outputId": "56673727-d244-47b5-90a8-2c9ad62930dd"
      },
      "execution_count": 27,
      "outputs": [
        {
          "output_type": "execute_result",
          "data": {
            "text/plain": [
              "225"
            ]
          },
          "metadata": {},
          "execution_count": 27
        }
      ]
    }
  ]
}