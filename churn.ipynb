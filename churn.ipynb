{
  "nbformat": 4,
  "nbformat_minor": 0,
  "metadata": {
    "colab": {
      "provenance": [],
      "authorship_tag": "ABX9TyNHZ0IBIegkwA2+vBUKZz00",
      "include_colab_link": true
    },
    "kernelspec": {
      "name": "python3",
      "display_name": "Python 3"
    },
    "language_info": {
      "name": "python"
    }
  },
  "cells": [
    {
      "cell_type": "markdown",
      "metadata": {
        "id": "view-in-github",
        "colab_type": "text"
      },
      "source": [
        "<a href=\"https://colab.research.google.com/github/uzair011/CN6022/blob/main/churn.ipynb\" target=\"_parent\"><img src=\"https://colab.research.google.com/assets/colab-badge.svg\" alt=\"Open In Colab\"/></a>"
      ]
    },
    {
      "cell_type": "code",
      "execution_count": 1,
      "metadata": {
        "colab": {
          "base_uri": "https://localhost:8080/"
        },
        "id": "2UtfCEq7o3vv",
        "outputId": "64fde789-69f2-4a4d-a9a2-b6901d051522"
      },
      "outputs": [
        {
          "output_type": "stream",
          "name": "stdout",
          "text": [
            "Warning: Looks like you're using an outdated `kagglehub` version (installed: 0.3.10), please consider upgrading to the latest version (0.3.11).\n",
            "Downloading from https://www.kaggle.com/api/v1/datasets/download/sameerhussain007/subscription-churn-dataset?dataset_version_number=1...\n"
          ]
        },
        {
          "output_type": "stream",
          "name": "stderr",
          "text": [
            "100%|██████████| 63.3k/63.3k [00:00<00:00, 44.2MB/s]"
          ]
        },
        {
          "output_type": "stream",
          "name": "stdout",
          "text": [
            "Extracting files...\n",
            "Path to dataset files: /root/.cache/kagglehub/datasets/sameerhussain007/subscription-churn-dataset/versions/1\n"
          ]
        },
        {
          "output_type": "stream",
          "name": "stderr",
          "text": [
            "\n"
          ]
        }
      ],
      "source": [
        "import kagglehub\n",
        "\n",
        "# Download latest version\n",
        "data = kagglehub.dataset_download(\"sameerhussain007/subscription-churn-dataset\")\n",
        "\n",
        "print(\"Path to dataset files:\", data)"
      ]
    },
    {
      "cell_type": "code",
      "source": [
        "import os\n",
        "print(os.listdir(data))"
      ],
      "metadata": {
        "colab": {
          "base_uri": "https://localhost:8080/"
        },
        "id": "SjMgIb2bpR0t",
        "outputId": "41cc555e-3793-4925-fbd9-8a719de22588"
      },
      "execution_count": 2,
      "outputs": [
        {
          "output_type": "stream",
          "name": "stdout",
          "text": [
            "['Subscription_Service_Churn_Dataset.csv']\n"
          ]
        }
      ]
    },
    {
      "cell_type": "markdown",
      "source": [
        "# Data Preprocessing"
      ],
      "metadata": {
        "id": "uUTKMnqqx4Pz"
      }
    },
    {
      "cell_type": "code",
      "source": [
        "import pandas as pd\n",
        "\n",
        "# Adjust this filename based on the output from os.listdir(data)\n",
        "file_path = os.path.join(data, \"Subscription_Service_Churn_Dataset.csv\")\n",
        "\n",
        "# Read\n",
        "df = pd.read_csv(file_path)\n",
        "print(df.head())\n"
      ],
      "metadata": {
        "colab": {
          "base_uri": "https://localhost:8080/"
        },
        "id": "nLnL9IcSzbFX",
        "outputId": "46681d25-d46a-4e2a-8efd-47c686e0953e"
      },
      "execution_count": 3,
      "outputs": [
        {
          "output_type": "stream",
          "name": "stdout",
          "text": [
            "   AccountAge  MonthlyCharges  TotalCharges SubscriptionType  \\\n",
            "0          42       11.321950    475.521914            Basic   \n",
            "1          95       12.810915   1217.036887         Standard   \n",
            "2           6             NaN     91.583304         Standard   \n",
            "3          54       17.917819    967.562224            Basic   \n",
            "4          27             NaN    339.057244            Basic   \n",
            "\n",
            "      PaymentMethod PaperlessBilling ContentType MultiDeviceAccess  \\\n",
            "0  Electronic check              Yes      Movies               Yes   \n",
            "1  Electronic check              Yes    TV Shows                No   \n",
            "2       Credit card              Yes    TV Shows                No   \n",
            "3               NaN              Yes      Movies                No   \n",
            "4      Mailed check               No    TV Shows                No   \n",
            "\n",
            "  DeviceRegistered  ViewingHoursPerWeek  ...  ContentDownloadsPerMonth  \\\n",
            "0           Tablet             0.386852  ...                        25   \n",
            "1           Mobile            37.123000  ...                        21   \n",
            "2           Tablet            30.716944  ...                        29   \n",
            "3           Mobile             2.495373  ...                        45   \n",
            "4           Mobile            39.936910  ...                        44   \n",
            "\n",
            "   GenrePreference UserRating  SupportTicketsPerMonth  Gender WatchlistSize  \\\n",
            "0           Comedy   3.489465                       7  Female            15   \n",
            "1           Comedy   2.251860                       3    Male             8   \n",
            "2          Fantasy        NaN                       4    Male            14   \n",
            "3            Drama   1.275004                       3    Male            12   \n",
            "4           Comedy   3.236230                       4  Female            18   \n",
            "\n",
            "   ParentalControl SubtitlesEnabled  CustomerID Churn  \n",
            "0               No               No  LOHRYYC9E8     0  \n",
            "1               No              NaN  RIH7RFEZCS     0  \n",
            "2               No              Yes  JB5J8X2UY1     1  \n",
            "3               No              NaN  Z4GZJIB90P     0  \n",
            "4               No              NaN  B3BDJTW0L9     0  \n",
            "\n",
            "[5 rows x 21 columns]\n"
          ]
        }
      ]
    },
    {
      "cell_type": "code",
      "source": [
        "df = df.drop(columns=['CustomerID'])"
      ],
      "metadata": {
        "id": "c_prZ33-sIX1"
      },
      "execution_count": 4,
      "outputs": []
    },
    {
      "cell_type": "code",
      "source": [
        "# Check for missing values\n",
        "print(df.info(), \"\\n\", df.isnull().sum())"
      ],
      "metadata": {
        "colab": {
          "base_uri": "https://localhost:8080/"
        },
        "id": "-OpP78vZ68C8",
        "outputId": "3924490e-1354-4f37-d49c-6f3e349d4217"
      },
      "execution_count": 5,
      "outputs": [
        {
          "output_type": "stream",
          "name": "stdout",
          "text": [
            "<class 'pandas.core.frame.DataFrame'>\n",
            "RangeIndex: 963 entries, 0 to 962\n",
            "Data columns (total 20 columns):\n",
            " #   Column                    Non-Null Count  Dtype  \n",
            "---  ------                    --------------  -----  \n",
            " 0   AccountAge                963 non-null    int64  \n",
            " 1   MonthlyCharges            759 non-null    float64\n",
            " 2   TotalCharges              777 non-null    float64\n",
            " 3   SubscriptionType          913 non-null    object \n",
            " 4   PaymentMethod             740 non-null    object \n",
            " 5   PaperlessBilling          963 non-null    object \n",
            " 6   ContentType               963 non-null    object \n",
            " 7   MultiDeviceAccess         963 non-null    object \n",
            " 8   DeviceRegistered          887 non-null    object \n",
            " 9   ViewingHoursPerWeek       963 non-null    float64\n",
            " 10  AverageViewingDuration    963 non-null    float64\n",
            " 11  ContentDownloadsPerMonth  963 non-null    int64  \n",
            " 12  GenrePreference           853 non-null    object \n",
            " 13  UserRating                702 non-null    float64\n",
            " 14  SupportTicketsPerMonth    963 non-null    int64  \n",
            " 15  Gender                    923 non-null    object \n",
            " 16  WatchlistSize             963 non-null    int64  \n",
            " 17  ParentalControl           963 non-null    object \n",
            " 18  SubtitlesEnabled          163 non-null    object \n",
            " 19  Churn                     963 non-null    int64  \n",
            "dtypes: float64(5), int64(5), object(10)\n",
            "memory usage: 150.6+ KB\n",
            "None \n",
            " AccountAge                    0\n",
            "MonthlyCharges              204\n",
            "TotalCharges                186\n",
            "SubscriptionType             50\n",
            "PaymentMethod               223\n",
            "PaperlessBilling              0\n",
            "ContentType                   0\n",
            "MultiDeviceAccess             0\n",
            "DeviceRegistered             76\n",
            "ViewingHoursPerWeek           0\n",
            "AverageViewingDuration        0\n",
            "ContentDownloadsPerMonth      0\n",
            "GenrePreference             110\n",
            "UserRating                  261\n",
            "SupportTicketsPerMonth        0\n",
            "Gender                       40\n",
            "WatchlistSize                 0\n",
            "ParentalControl               0\n",
            "SubtitlesEnabled            800\n",
            "Churn                         0\n",
            "dtype: int64\n"
          ]
        }
      ]
    },
    {
      "cell_type": "markdown",
      "source": [
        "According to this,\n",
        "- `TotalCharges` and\n",
        " `UserRating` contains numaircal null values.\n",
        "\n",
        "-  `SubscriptionType`, `PaymentMethod`, ` DeviceRegistered`, `GenrePreference`, `Gender`and `SubtitlesEnabled` contains categorical null values."
      ],
      "metadata": {
        "id": "pjZGuqj88l9H"
      }
    },
    {
      "cell_type": "code",
      "source": [
        "## Handling missing data\n",
        "\n",
        "# Missing numarical columns with median\n",
        "df['TotalCharges'] = df['TotalCharges'].fillna(df['TotalCharges'].median())\n",
        "df['UserRating'] = df['UserRating'].fillna(df['UserRating'].median())"
      ],
      "metadata": {
        "id": "ij_n5C5j3zRS"
      },
      "execution_count": 6,
      "outputs": []
    },
    {
      "cell_type": "code",
      "source": [
        "categorical_cols_to_fix = ['SubscriptionType', 'PaymentMethod', 'DeviceRegistered',\n",
        "                           'GenrePreference', 'Gender', 'SubtitlesEnabled']\n",
        "\n",
        "# Fill missing values for categorical columns\n",
        "for col in categorical_cols_to_fix:\n",
        "    if col in df.columns:\n",
        "        if not df[col].mode().empty:\n",
        "            df[col] = df[col].fillna(df[col].mode()[0])\n",
        "        else:\n",
        "            print(f\"Mode not found for column '{col}', possibly all NaN values.\")\n",
        "    else:\n",
        "        print(f\"Column '{col}' not found in the DataFrame.\")\n",
        "\n",
        "# Only pass existing columns to pd.get_dummies\n",
        "valid_categorical_cols = [col for col in categorical_cols_to_fix if col in df.columns]\n",
        "df = pd.get_dummies(df, columns=valid_categorical_cols)\n",
        "\n",
        "print(\"All done, fixed and encoded!\")\n"
      ],
      "metadata": {
        "colab": {
          "base_uri": "https://localhost:8080/"
        },
        "id": "gh8nWgG4D5lF",
        "outputId": "22a29cd6-17ef-4ac4-922a-5a92c2dbf2d7"
      },
      "execution_count": 62,
      "outputs": [
        {
          "output_type": "stream",
          "name": "stdout",
          "text": [
            "Column 'SubscriptionType' not found in the DataFrame.\n",
            "Column 'PaymentMethod' not found in the DataFrame.\n",
            "Column 'DeviceRegistered' not found in the DataFrame.\n",
            "Column 'GenrePreference' not found in the DataFrame.\n",
            "Column 'Gender' not found in the DataFrame.\n",
            "Column 'SubtitlesEnabled' not found in the DataFrame.\n",
            "All done, fixed and encoded!\n"
          ]
        }
      ]
    },
    {
      "cell_type": "code",
      "source": [
        "# scale numarical values by normaliseing\n",
        "from sklearn.preprocessing import StandardScaler\n",
        "\n",
        "numerical_cols = ['AccountAge', 'MonthlyCharges', 'TotalCharges',\n",
        "                  'ViewingHoursPerWeek', 'AverageViewingDuration',\n",
        "                  'ContentDownloadsPerMonth', 'UserRating',\n",
        "                  'SupportTicketsPerMonth', 'WatchlistSize']\n",
        "\n",
        "scaler = StandardScaler()\n",
        "df[numerical_cols] = scaler.fit_transform(df[numerical_cols])\n"
      ],
      "metadata": {
        "id": "JkL89g3Pv3Tt"
      },
      "execution_count": 63,
      "outputs": []
    },
    {
      "cell_type": "markdown",
      "source": [
        "# Split,Training, ..."
      ],
      "metadata": {
        "id": "-Ve69n5Xx_Uz"
      }
    },
    {
      "cell_type": "markdown",
      "source": [
        "1. SPLIT THE DATA"
      ],
      "metadata": {
        "id": "hxU6eZVmym5B"
      }
    },
    {
      "cell_type": "code",
      "source": [
        "from sklearn.model_selection import train_test_split\n",
        "\n",
        "X = df.drop(columns=['Churn'])  # features\n",
        "y = df['Churn']  # Target column\n",
        "\n",
        "# Split into 80:20\n",
        "X_train, X_test, y_train, y_test = train_test_split(X, y, test_size=0.2, random_state=42, stratify=y)\n",
        "\n",
        "print(f\"Training samples: {X_train.shape[0]}, Testing samples: {X_test.shape[0]}\")\n"
      ],
      "metadata": {
        "colab": {
          "base_uri": "https://localhost:8080/"
        },
        "id": "-2oxbPF3yKrS",
        "outputId": "9b6f68c0-ae71-4d05-9409-3ae9228f58eb"
      },
      "execution_count": 64,
      "outputs": [
        {
          "output_type": "stream",
          "name": "stdout",
          "text": [
            "Training samples: 770, Testing samples: 193\n"
          ]
        }
      ]
    },
    {
      "cell_type": "markdown",
      "source": [
        "2. CONVERT DATA -> PYTORCH TENSORS"
      ],
      "metadata": {
        "id": "cOmDydOxzPhb"
      }
    },
    {
      "cell_type": "code",
      "source": [
        "import torch\n",
        "from torch.utils.data import TensorDataset, DataLoader\n",
        "import numpy as np\n",
        "import pandas as pd\n",
        "\n",
        "# Convert NumPy arrays to PyTorch tensors\n",
        "for col in X_train.select_dtypes(include=['object']).columns:\n",
        "    X_train[col], _ = pd.factorize(X_train[col]) #'object' type columns to numerical using pandas.factorize()\n",
        "    X_test[col], _ = pd.factorize(X_test[col])\n",
        "\n",
        "# Convert NumPy arrays to PyTorch tensors\n",
        "X_train_tensor = torch.tensor(X_train.values.astype(np.float32), dtype=torch.float32)\n",
        "y_train_tensor = torch.tensor(y_train.values.astype(np.float32), dtype=torch.float32).unsqueeze(1)\n",
        "X_test_tensor = torch.tensor(X_test.values.astype(np.float32), dtype=torch.float32)\n",
        "y_test_tensor = torch.tensor(y_test.values.astype(np.float32), dtype=torch.float32).unsqueeze(1)\n",
        "\n",
        "# Create PyTorch Datasets & DataLoaders\n",
        "## TensorDataset: group togethor tensors to treat it as a one dataset.\n",
        "train_dataset = TensorDataset(X_train_tensor, y_train_tensor)\n",
        "test_dataset = TensorDataset(X_test_tensor, y_test_tensor)\n",
        "## DataLoader: makes it easy to iterate over datasets in batches.\n",
        "train_loader = DataLoader(train_dataset, batch_size=32, shuffle=True)\n",
        "test_loader = DataLoader(test_dataset, batch_size=32, shuffle=False)\n",
        "\n",
        "print(\"Data successfully converted to PyTorch tensors!\")"
      ],
      "metadata": {
        "colab": {
          "base_uri": "https://localhost:8080/"
        },
        "id": "2n0kImMBzY6N",
        "outputId": "0b1cc3b7-b276-427f-fce3-9d0569e84702"
      },
      "execution_count": 65,
      "outputs": [
        {
          "output_type": "stream",
          "name": "stdout",
          "text": [
            "Data successfully converted to PyTorch tensors!\n"
          ]
        }
      ]
    },
    {
      "cell_type": "markdown",
      "source": [
        "3. A simple neural Network"
      ],
      "metadata": {
        "id": "--E7oaMD2uTU"
      }
    },
    {
      "cell_type": "code",
      "source": [
        "import torch.nn as nn\n",
        "\n",
        "# define the model\n",
        "class ChurnNN(nn.Module):\n",
        "    def __init__(self, input_size):\n",
        "        super(ChurnNN, self).__init__()\n",
        "        self.fc1 = nn.Linear(input_size, 16)\n",
        "        self.relu = nn.ReLU()\n",
        "        self.fc2 = nn.Linear(16, 1)\n",
        "\n",
        "        # Initialize weights using Xavier initialization for better stability\n",
        "        nn.init.xavier_uniform_(self.fc1.weight)\n",
        "        nn.init.xavier_uniform_(self.fc2.weight)\n",
        "\n",
        "    def forward(self, x):\n",
        "        x = self.fc1(x)\n",
        "        x = self.relu(x)\n",
        "        x = self.fc2(x)\n",
        "        return x\n",
        "\n",
        "# Initialise the model\n",
        "input_size = X_train.shape[1]  # Number of features\n",
        "model = ChurnNN(input_size)\n",
        "\n",
        "print(model)\n"
      ],
      "metadata": {
        "colab": {
          "base_uri": "https://localhost:8080/"
        },
        "id": "M26hd-e323R6",
        "outputId": "8bd5e1c0-457b-4180-da35-cfc79821637a"
      },
      "execution_count": 66,
      "outputs": [
        {
          "output_type": "stream",
          "name": "stdout",
          "text": [
            "ChurnNN(\n",
            "  (fc1): Linear(in_features=34, out_features=16, bias=True)\n",
            "  (relu): ReLU()\n",
            "  (fc2): Linear(in_features=16, out_features=1, bias=True)\n",
            ")\n"
          ]
        }
      ]
    },
    {
      "cell_type": "markdown",
      "source": [
        "4. TRAIN THE MODEL"
      ],
      "metadata": {
        "id": "29USz6T_7RiP"
      }
    },
    {
      "cell_type": "code",
      "source": [
        "import torch.optim as optim\n",
        "\n",
        "# Loss Function and Optimiser\n",
        "criterion = nn.BCEWithLogitsLoss()  # Binary Cross Entropy Loss\n",
        "optimizer = optim.Adam(model.parameters(), lr=0.001)\n",
        "\n",
        "# Training Loop\n",
        "num_epochs = 100\n",
        "for epoch in range(num_epochs):\n",
        "    model.train()\n",
        "    total_loss = 0\n",
        "\n",
        "    for X_batch, y_batch in train_loader:\n",
        "        optimizer.zero_grad()  # Clear gradients\n",
        "        y_pred = model(X_batch)  # Forward pass\n",
        "        loss = criterion(y_pred, y_batch)  # Compute loss\n",
        "        loss.backward()  # Back propagation\n",
        "        #gradient clipping\n",
        "        torch.nn.utils.clip_grad_norm_(model.parameters(), max_norm=1)\n",
        "        optimizer.step()  # Update weights\n",
        "        total_loss += loss.item()\n",
        "\n",
        "    if (epoch + 1) % 10 == 0:\n",
        "      avg_loss = total_loss / len(train_loader)\n",
        "      print(f\"Epoch [{epoch+1}/{num_epochs}], Loss: {avg_loss:.4f}\")"
      ],
      "metadata": {
        "colab": {
          "base_uri": "https://localhost:8080/"
        },
        "id": "uGmD5bYf7VH6",
        "outputId": "61847785-8007-4103-b3f4-11097e7c39ed"
      },
      "execution_count": 67,
      "outputs": [
        {
          "output_type": "stream",
          "name": "stdout",
          "text": [
            "Epoch [10/100], Loss: nan\n",
            "Epoch [20/100], Loss: nan\n",
            "Epoch [30/100], Loss: nan\n",
            "Epoch [40/100], Loss: nan\n",
            "Epoch [50/100], Loss: nan\n",
            "Epoch [60/100], Loss: nan\n",
            "Epoch [70/100], Loss: nan\n",
            "Epoch [80/100], Loss: nan\n",
            "Epoch [90/100], Loss: nan\n",
            "Epoch [100/100], Loss: nan\n"
          ]
        }
      ]
    }
  ]
}