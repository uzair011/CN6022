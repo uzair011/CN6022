{
  "nbformat": 4,
  "nbformat_minor": 0,
  "metadata": {
    "colab": {
      "provenance": [],
      "include_colab_link": true
    },
    "kernelspec": {
      "name": "python3",
      "display_name": "Python 3"
    },
    "accelerator": "GPU"
  },
  "cells": [
    {
      "cell_type": "markdown",
      "metadata": {
        "id": "view-in-github",
        "colab_type": "text"
      },
      "source": [
        "<a href=\"https://colab.research.google.com/github/uzair011/CN6022/blob/main/NaiveBayes_long.ipynb\" target=\"_parent\"><img src=\"https://colab.research.google.com/assets/colab-badge.svg\" alt=\"Open In Colab\"/></a>"
      ]
    },
    {
      "cell_type": "code",
      "source": [
        "!pip3 install pyspark\n",
        "from pyspark.sql import SparkSession\n",
        "from pyspark.ml.classification import NaiveBayes\n",
        "\n",
        "\n",
        "spark = SparkSession.builder.master(\"local[*]\").getOrCreate()"
      ],
      "metadata": {
        "colab": {
          "base_uri": "https://localhost:8080/"
        },
        "id": "iToXLmbuysRG",
        "outputId": "5c23c449-e6df-4c51-8da1-6b9d08cc0dd8"
      },
      "execution_count": 9,
      "outputs": [
        {
          "output_type": "stream",
          "name": "stdout",
          "text": [
            "Requirement already satisfied: pyspark in /usr/local/lib/python3.10/dist-packages (3.5.3)\n",
            "Requirement already satisfied: py4j==0.10.9.7 in /usr/local/lib/python3.10/dist-packages (from pyspark) (0.10.9.7)\n"
          ]
        }
      ]
    },
    {
      "cell_type": "code",
      "metadata": {
        "id": "we-2grq7Z2-d"
      },
      "source": [],
      "execution_count": 9,
      "outputs": []
    },
    {
      "cell_type": "code",
      "metadata": {
        "id": "0nSL2-QDgX24",
        "colab": {
          "base_uri": "https://localhost:8080/"
        },
        "outputId": "01234830-a760-40e7-c431-a8cc2e6df7c8"
      },
      "source": [
        "from google.colab import drive\n",
        "drive.mount('/content/drive')"
      ],
      "execution_count": 10,
      "outputs": [
        {
          "output_type": "stream",
          "name": "stdout",
          "text": [
            "Drive already mounted at /content/drive; to attempt to forcibly remount, call drive.mount(\"/content/drive\", force_remount=True).\n"
          ]
        }
      ]
    },
    {
      "cell_type": "code",
      "metadata": {
        "id": "12hdmr7igacO"
      },
      "source": [],
      "execution_count": 10,
      "outputs": []
    },
    {
      "cell_type": "code",
      "metadata": {
        "id": "Zcd5Pr7xtijh"
      },
      "source": [
        "#raw_data = spark.read.format(\"csv\").option(\"header\",\"true\").option(\"inferSchema\", \"true\").load(r\".\\\\diabetes.csv\")\n",
        "dataset = spark.read.csv('/content/diabetes (1).csv',inferSchema=True, header =True)\n"
      ],
      "execution_count": 11,
      "outputs": []
    },
    {
      "cell_type": "code",
      "metadata": {
        "id": "gTTxx25dhSnN",
        "colab": {
          "base_uri": "https://localhost:8080/"
        },
        "outputId": "35bc3148-66fe-4cc5-8615-1754254f059b"
      },
      "source": [
        "dataset.columns"
      ],
      "execution_count": 12,
      "outputs": [
        {
          "output_type": "execute_result",
          "data": {
            "text/plain": [
              "['Pregnancies',\n",
              " 'Glucose',\n",
              " 'BloodPressure',\n",
              " 'SkinThickness',\n",
              " 'Insulin',\n",
              " 'BMI',\n",
              " 'DiabetesPedigreeFunction',\n",
              " 'Age',\n",
              " 'Outcome']"
            ]
          },
          "metadata": {},
          "execution_count": 12
        }
      ]
    },
    {
      "cell_type": "code",
      "metadata": {
        "id": "MwHcIKQXhW-H",
        "colab": {
          "base_uri": "https://localhost:8080/"
        },
        "outputId": "40514c4e-176d-4b49-e3a2-bba18b778c1a"
      },
      "source": [
        "dataset.describe().select(\"Summary\",\"Pregnancies\",\"Glucose\",\"BloodPressure\").show()"
      ],
      "execution_count": 13,
      "outputs": [
        {
          "output_type": "stream",
          "name": "stdout",
          "text": [
            "+-------+------------------+-----------------+------------------+\n",
            "|Summary|       Pregnancies|          Glucose|     BloodPressure|\n",
            "+-------+------------------+-----------------+------------------+\n",
            "|  count|               768|              768|               768|\n",
            "|   mean|3.8450520833333335|     120.89453125|       69.10546875|\n",
            "| stddev|  3.36957806269887|31.97261819513622|19.355807170644777|\n",
            "|    min|                 0|                0|                 0|\n",
            "|    max|                17|              199|               122|\n",
            "+-------+------------------+-----------------+------------------+\n",
            "\n"
          ]
        }
      ]
    },
    {
      "cell_type": "code",
      "metadata": {
        "id": "EQvTNvjviIC1",
        "colab": {
          "base_uri": "https://localhost:8080/"
        },
        "outputId": "ceeb41ad-13bc-462f-9ada-e11d193ed642"
      },
      "source": [
        "dataset.describe().select(\"Summary\",\"SkinThickness\",\"Insulin\").show()"
      ],
      "execution_count": 14,
      "outputs": [
        {
          "output_type": "stream",
          "name": "stdout",
          "text": [
            "+-------+------------------+------------------+\n",
            "|Summary|     SkinThickness|           Insulin|\n",
            "+-------+------------------+------------------+\n",
            "|  count|               768|               768|\n",
            "|   mean|20.536458333333332| 79.79947916666667|\n",
            "| stddev|15.952217567727642|115.24400235133803|\n",
            "|    min|                 0|                 0|\n",
            "|    max|                99|               846|\n",
            "+-------+------------------+------------------+\n",
            "\n"
          ]
        }
      ]
    },
    {
      "cell_type": "code",
      "metadata": {
        "id": "hiuAkYhgiUfU",
        "colab": {
          "base_uri": "https://localhost:8080/"
        },
        "outputId": "9425c911-9b6e-453b-a54a-4f8d3056eaec"
      },
      "source": [
        "dataset.describe().select(\"Summary\",\"BMI\",\"DiabetesPedigreeFunction\",\"Age\").show()"
      ],
      "execution_count": 15,
      "outputs": [
        {
          "output_type": "stream",
          "name": "stdout",
          "text": [
            "+-------+------------------+------------------------+------------------+\n",
            "|Summary|               BMI|DiabetesPedigreeFunction|               Age|\n",
            "+-------+------------------+------------------------+------------------+\n",
            "|  count|               768|                     768|               768|\n",
            "|   mean|31.992578124999977|      0.4718763020833327|33.240885416666664|\n",
            "| stddev| 7.884160320375441|       0.331328595012775|11.760231540678689|\n",
            "|    min|               0.0|                   0.078|                21|\n",
            "|    max|              67.1|                    2.42|                81|\n",
            "+-------+------------------+------------------------+------------------+\n",
            "\n"
          ]
        }
      ]
    },
    {
      "cell_type": "code",
      "metadata": {
        "id": "GVeY-MLlilAn",
        "colab": {
          "base_uri": "https://localhost:8080/"
        },
        "outputId": "fe749bf6-3c99-408e-b988-752fa7f08aba"
      },
      "source": [
        "# replace min value of zeros with Nan as data cleaning processs\n",
        "import numpy as np\n",
        "from pyspark.sql.functions import when\n",
        "dataset=dataset.withColumn(\"Glucose\",when(dataset.Glucose==0,np.nan).otherwise (dataset.Glucose))\n",
        "dataset=dataset.withColumn(\"BloodPressure\",when(dataset.BloodPressure==0,np.nan).otherwise(dataset.BloodPressure))\n",
        "dataset=dataset.withColumn(\"SkinThickness\",when(dataset.SkinThickness==0,np.nan).otherwise(dataset.SkinThickness))\n",
        "dataset=dataset.withColumn(\"BMI\",when(dataset.BMI==0,np.nan).otherwise(dataset.BMI))\n",
        "dataset=dataset.withColumn(\"Insulin\",when(dataset.Insulin==0,np.nan).otherwise(dataset.Insulin))\n",
        "dataset.select(\"Insulin\",\"Glucose\",\"BloodPressure\",\"SkinThickness\",\"BMI\").show(5)\n"
      ],
      "execution_count": 16,
      "outputs": [
        {
          "output_type": "stream",
          "name": "stdout",
          "text": [
            "+-------+-------+-------------+-------------+----+\n",
            "|Insulin|Glucose|BloodPressure|SkinThickness| BMI|\n",
            "+-------+-------+-------------+-------------+----+\n",
            "|    NaN|  148.0|         72.0|         35.0|33.6|\n",
            "|    NaN|   85.0|         66.0|         29.0|26.6|\n",
            "|    NaN|  183.0|         64.0|          NaN|23.3|\n",
            "|   94.0|   89.0|         66.0|         23.0|28.1|\n",
            "|  168.0|  137.0|         40.0|         35.0|43.1|\n",
            "+-------+-------+-------------+-------------+----+\n",
            "only showing top 5 rows\n",
            "\n"
          ]
        }
      ]
    },
    {
      "cell_type": "code",
      "source": [
        "# prompt: explain me this code.... => `# replace min value of zeros with Nan as data cleaning processs\n",
        "# import numpy as np\n",
        "# from pyspark.sql.functions import when\n",
        "# dataset=dataset.withColumn(\"Glucose\",when(dataset.Glucose==0,np.nan).otherwise (dataset.Glucose))\n",
        "# dataset=dataset.withColumn(\"BloodPressure\",when(dataset.BloodPressure==0,np.nan).otherwise(dataset.BloodPressure))\n",
        "# dataset=dataset.withColumn(\"SkinThickness\",when(dataset.SkinThickness==0,np.nan).otherwise(dataset.SkinThickness))\n",
        "# dataset=dataset.withColumn(\"BMI\",when(dataset.BMI==0,np.nan).otherwise(dataset.BMI))\n",
        "# dataset=dataset.withColumn(\"Insulin\",when(dataset.Insulin==0,np.nan).otherwise(dataset.Insulin))\n",
        "# dataset.select(\"Insulin\",\"Glucose\",\"BloodPressure\",\"SkinThickness\",\"BMI\").show(5)\n",
        "# `\n",
        "\n",
        "import numpy as np\n",
        "Okay, let's break down this PySpark code snippet.\n",
        "\n",
        "**Context:**\n",
        "\n",
        "The code is part of a data preprocessing step for a dataset related to diabetes. It's using PySpark, a framework for distributed data processing, to handle the dataset.\n",
        "\n",
        "**Purpose:**\n",
        "\n",
        "The main goal is to replace values of 0 in specific columns (\"Glucose\", \"BloodPressure\", \"SkinThickness\", \"BMI\", \"Insulin\") with NaN (Not a Number). This is a common data cleaning technique to handle missing or invalid data.\n",
        "\n",
        "**Code Explanation:**\n",
        "\n",
        "1. `dataset=dataset.withColumn(\"Glucose\",when(dataset.Glucose==0,np.nan).otherwise (dataset.Glucose))`:\n",
        "\n",
        "   - This line is the core of the data cleaning process. It uses the `withColumn` function from PySpark to modify the \"Glucose\" column in the `dataset`.\n",
        "   - `when(dataset.Glucose==0,np.nan)`: This part checks if the \"Glucose\" value in a row is equal to 0. If it is, it replaces it with `np.nan` (NaN from NumPy).\n",
        "   - `.otherwise(dataset.Glucose)`: If the \"Glucose\" value is not 0, the original value is retained.\n",
        "\n",
        "2. The same logic is repeated for other columns (\"BloodPressure\", \"SkinThickness\", \"BMI\", \"Insulin\").\n",
        "\n",
        "3. `dataset.select(\"Insulin\",\"Glucose\",\"BloodPressure\",\"SkinThickness\",\"BMI\").show(5)`:\n",
        "\n",
        "   - Finally, it selects the columns that were modified and shows the first 5 rows of the dataset after the replacements have been made.\n",
        "\n",
        "**Why Replace Zeros with NaN?**\n",
        "\n",
        "In this context, having a value of 0 for things like glucose, blood pressure, skin thickness, BMI, and insulin might not be realistic. It could indicate missing data or an error in data collection. Replacing these with NaN allows for easier handling of missing values later in the analysis.\n",
        "\n",
        "**In essence, this code snippet is performing a crucial data preprocessing step by replacing potentially erroneous or missing values with NaN to improve the quality of the dataset before further analysis or modeling.**"
      ],
      "metadata": {
        "id": "gN-ilILSJLiO"
      },
      "execution_count": null,
      "outputs": []
    },
    {
      "cell_type": "code",
      "metadata": {
        "id": "c6-7RX2lkpM4",
        "colab": {
          "base_uri": "https://localhost:8080/"
        },
        "outputId": "a77b81e7-73b8-4a50-932c-40f1c92a27d6"
      },
      "source": [
        "#impute\n",
        "from pyspark.ml.feature import Imputer\n",
        "imputer=Imputer(inputCols=[\"Glucose\",\"BloodPressure\",\"SkinThickness\",\"BMI\",\"Insulin\"],outputCols=[\"Glucose\",\"BloodPressure\",\"SkinThickness\",\"BMI\",\"Insulin\"])\n",
        "model=imputer.fit(dataset)\n",
        "dataset=model.transform(dataset)\n",
        "dataset.show(5)"
      ],
      "execution_count": 17,
      "outputs": [
        {
          "output_type": "stream",
          "name": "stdout",
          "text": [
            "+-----------+-------+-------------+------------------+-----------------+----+------------------------+---+-------+\n",
            "|Pregnancies|Glucose|BloodPressure|     SkinThickness|          Insulin| BMI|DiabetesPedigreeFunction|Age|Outcome|\n",
            "+-----------+-------+-------------+------------------+-----------------+----+------------------------+---+-------+\n",
            "|          6|  148.0|         72.0|              35.0|155.5482233502538|33.6|                   0.627| 50|      1|\n",
            "|          1|   85.0|         66.0|              29.0|155.5482233502538|26.6|                   0.351| 31|      0|\n",
            "|          8|  183.0|         64.0|29.153419593345657|155.5482233502538|23.3|                   0.672| 32|      1|\n",
            "|          1|   89.0|         66.0|              23.0|             94.0|28.1|                   0.167| 21|      0|\n",
            "|          0|  137.0|         40.0|              35.0|            168.0|43.1|                   2.288| 33|      1|\n",
            "+-----------+-------+-------------+------------------+-----------------+----+------------------------+---+-------+\n",
            "only showing top 5 rows\n",
            "\n"
          ]
        }
      ]
    },
    {
      "cell_type": "code",
      "source": [
        "# prompt: explain - `#impute\n",
        "# from pyspark.ml.feature import Imputer\n",
        "# imputer=Imputer(inputCols=[\"Glucose\",\"BloodPressure\",\"SkinThickness\",\"BMI\",\"Insulin\"],outputCols=[\"Glucose\",\"BloodPressure\",\"SkinThickness\",\"BMI\",\"Insulin\"])\n",
        "# model=imputer.fit(dataset)\n",
        "# dataset=model.transform(dataset)\n",
        "# dataset.show(5)`\n",
        "\n",
        "Okay, let's dissect the `#impute` section of your code.\n",
        "\n",
        "**What it does:**\n",
        "\n",
        "This part handles missing data (represented by NaN) in your dataset using a technique called imputation. Imputation replaces missing values with estimated or substituted values. In this case, it uses the mean of the available data in each column.\n",
        "\n",
        "\n",
        "**Code Explanation:**\n",
        "\n",
        "1. `imputer = Imputer(inputCols=[\"Glucose\", \"BloodPressure\", \"SkinThickness\", \"BMI\", \"Insulin\"], outputCols=[\"Glucose\", \"BloodPressure\", \"SkinThickness\", \"BMI\", \"Insulin\"])`:\n",
        "\n",
        "   - This creates an `Imputer` object from PySpark's `ml.feature` module.\n",
        "   - `inputCols`: Specifies the columns that contain missing values (NaN).\n",
        "   - `outputCols`:  Specifies the names of the columns where the imputed values will be placed. In this case, it's the same as `inputCols`, so the original columns will be overwritten with the imputed values.\n",
        "\n",
        "2. `model = imputer.fit(dataset)`:\n",
        "\n",
        "   - This fits the `Imputer` model to your dataset. This step calculates the mean value for each specified input column, which will be used for imputation later.\n",
        "\n",
        "3. `dataset = model.transform(dataset)`:\n",
        "\n",
        "   - This transforms the dataset by applying the learned imputation strategy.\n",
        "   - The model replaces the NaN values in the `inputCols` with the corresponding mean values.\n",
        "   - The updated dataset is stored back into the `dataset` variable.\n",
        "\n",
        "4. `dataset.show(5)`:\n",
        "\n",
        "   - This displays the first 5 rows of the updated dataset. You can see that the missing values have been replaced by the calculated means.\n",
        "\n",
        "\n",
        "\n",
        "**Why impute?**\n",
        "\n",
        "- Missing data can cause problems in machine learning models. Models might not work correctly or give inaccurate results when missing values are present.\n",
        "- Imputation is a common technique to handle missing data by filling in the gaps with reasonable estimates.\n",
        "- In this case, using the mean to replace missing values is a simple but effective approach, particularly when the data distribution is approximately normal.\n",
        "\n",
        "\n",
        "**In summary, this section takes care of handling missing data in the \"Glucose\", \"BloodPressure\", \"SkinThickness\", \"BMI\", and \"Insulin\" columns using mean imputation. This improves the data quality and allows for more reliable analysis and modeling.**"
      ],
      "metadata": {
        "id": "5tl46TFFMRdL"
      },
      "execution_count": null,
      "outputs": []
    },
    {
      "cell_type": "code",
      "metadata": {
        "id": "HDiAdXE_oWV2",
        "colab": {
          "base_uri": "https://localhost:8080/"
        },
        "outputId": "57159541-8929-48a6-dd40-7efe50c83f67"
      },
      "source": [
        "#us combine all the features in one single feature vector.\n",
        "cols=dataset.columns\n",
        "cols.remove(\"Outcome\")\n",
        "# Let us import the vector assembler\n",
        "from pyspark.ml.feature import VectorAssembler\n",
        "assembler = VectorAssembler(inputCols=cols,outputCol=\"features\")\n",
        "# Now let us use the transform method to transform our dataset\n",
        "dataset=assembler.transform(dataset)\n",
        "dataset.select(\"features\").show(truncate=False)"
      ],
      "execution_count": 18,
      "outputs": [
        {
          "output_type": "stream",
          "name": "stdout",
          "text": [
            "+-----------------------------------------------------------------------------------+\n",
            "|features                                                                           |\n",
            "+-----------------------------------------------------------------------------------+\n",
            "|[6.0,148.0,72.0,35.0,155.5482233502538,33.6,0.627,50.0]                            |\n",
            "|[1.0,85.0,66.0,29.0,155.5482233502538,26.6,0.351,31.0]                             |\n",
            "|[8.0,183.0,64.0,29.153419593345657,155.5482233502538,23.3,0.672,32.0]              |\n",
            "|[1.0,89.0,66.0,23.0,94.0,28.1,0.167,21.0]                                          |\n",
            "|[0.0,137.0,40.0,35.0,168.0,43.1,2.288,33.0]                                        |\n",
            "|[5.0,116.0,74.0,29.153419593345657,155.5482233502538,25.6,0.201,30.0]              |\n",
            "|[3.0,78.0,50.0,32.0,88.0,31.0,0.248,26.0]                                          |\n",
            "|[10.0,115.0,72.40518417462484,29.153419593345657,155.5482233502538,35.3,0.134,29.0]|\n",
            "|[2.0,197.0,70.0,45.0,543.0,30.5,0.158,53.0]                                        |\n",
            "|[8.0,125.0,96.0,29.153419593345657,155.5482233502538,32.45746367239099,0.232,54.0] |\n",
            "|[4.0,110.0,92.0,29.153419593345657,155.5482233502538,37.6,0.191,30.0]              |\n",
            "|[10.0,168.0,74.0,29.153419593345657,155.5482233502538,38.0,0.537,34.0]             |\n",
            "|[10.0,139.0,80.0,29.153419593345657,155.5482233502538,27.1,1.441,57.0]             |\n",
            "|[1.0,189.0,60.0,23.0,846.0,30.1,0.398,59.0]                                        |\n",
            "|[5.0,166.0,72.0,19.0,175.0,25.8,0.587,51.0]                                        |\n",
            "|[7.0,100.0,72.40518417462484,29.153419593345657,155.5482233502538,30.0,0.484,32.0] |\n",
            "|[0.0,118.0,84.0,47.0,230.0,45.8,0.551,31.0]                                        |\n",
            "|[7.0,107.0,74.0,29.153419593345657,155.5482233502538,29.6,0.254,31.0]              |\n",
            "|[1.0,103.0,30.0,38.0,83.0,43.3,0.183,33.0]                                         |\n",
            "|[1.0,115.0,70.0,30.0,96.0,34.6,0.529,32.0]                                         |\n",
            "+-----------------------------------------------------------------------------------+\n",
            "only showing top 20 rows\n",
            "\n"
          ]
        }
      ]
    },
    {
      "cell_type": "code",
      "metadata": {
        "id": "u85-frfNqk2i"
      },
      "source": [
        "#Train, test split\n",
        "train, test = dataset.randomSplit([0.8, 0.2], seed=12345)"
      ],
      "execution_count": 19,
      "outputs": []
    },
    {
      "cell_type": "code",
      "metadata": {
        "id": "Hht_GsnCr2xN",
        "colab": {
          "base_uri": "https://localhost:8080/"
        },
        "outputId": "3e1ae59c-44e2-4ca7-c26c-25477bdbc6e8"
      },
      "source": [
        " #Feature selection\n",
        "# Feature selection using chisquareSelector (see details next for more details)\n",
        "from pyspark.ml.feature import ChiSqSelector\n",
        "css = ChiSqSelector(featuresCol='features',outputCol='Aspect',labelCol='Outcome',fpr=0.05)\n",
        "train=css.fit(train).transform(train)\n",
        "test=css.fit(test).transform(test)\n",
        "test.select(\"Aspect\").show(5,truncate=False)"
      ],
      "execution_count": 20,
      "outputs": [
        {
          "output_type": "stream",
          "name": "stdout",
          "text": [
            "+--------------------------------------------------------------------+\n",
            "|Aspect                                                              |\n",
            "+--------------------------------------------------------------------+\n",
            "|[0.0,84.0,82.0,31.0,125.0,38.2,0.233,23.0]                          |\n",
            "|[0.0,101.0,64.0,17.0,155.5482233502538,21.0,0.252,21.0]             |\n",
            "|[0.0,101.0,65.0,28.0,155.5482233502538,24.6,0.237,22.0]             |\n",
            "|[0.0,102.0,75.0,23.0,155.5482233502538,32.45746367239099,0.572,21.0]|\n",
            "|[0.0,105.0,68.0,22.0,155.5482233502538,20.0,0.236,22.0]             |\n",
            "+--------------------------------------------------------------------+\n",
            "only showing top 5 rows\n",
            "\n"
          ]
        }
      ]
    },
    {
      "cell_type": "code",
      "metadata": {
        "id": "IzuP7fv2trR4",
        "colab": {
          "base_uri": "https://localhost:8080/"
        },
        "outputId": "9bd3cb4c-d677-49e2-8e48-4b0a1bbcbbf2"
      },
      "source": [
        "#Building a classification model using Naive Bayes\n",
        "\n",
        "lr = NaiveBayes(labelCol=\"Outcome\", featuresCol=\"Aspect\",smoothing=1.0, modelType=\"multinomial\")\n",
        "\n",
        "model=lr.fit(train)\n",
        "predict_train=model.transform(train)\n",
        "predict_test=model.transform(test)\n",
        "predict_test.select(\"Outcome\",\"prediction\").show(10)"
      ],
      "execution_count": 21,
      "outputs": [
        {
          "output_type": "stream",
          "name": "stdout",
          "text": [
            "+-------+----------+\n",
            "|Outcome|prediction|\n",
            "+-------+----------+\n",
            "|      0|       0.0|\n",
            "|      0|       1.0|\n",
            "|      0|       0.0|\n",
            "|      0|       0.0|\n",
            "|      0|       1.0|\n",
            "|      0|       0.0|\n",
            "|      0|       0.0|\n",
            "|      0|       1.0|\n",
            "|      1|       0.0|\n",
            "|      1|       0.0|\n",
            "+-------+----------+\n",
            "only showing top 10 rows\n",
            "\n"
          ]
        }
      ]
    },
    {
      "cell_type": "code",
      "source": [
        "# prompt: explain - `lr = NaiveBayes(labelCol=\"Outcome\", featuresCol=\"Aspect\",smoothing=1.0, modelType=\"multinomial\")`\n",
        "\n",
        "lr = NaiveBayes(labelCol=\"Outcome\", featuresCol=\"Aspect\",smoothing=1.0, modelType=\"multinomial\")"
      ],
      "metadata": {
        "id": "EK_xOl4BN8Tt"
      },
      "execution_count": null,
      "outputs": []
    },
    {
      "cell_type": "code",
      "metadata": {
        "id": "GXM71K43uaTD",
        "colab": {
          "base_uri": "https://localhost:8080/"
        },
        "outputId": "1990fb76-eb9d-434a-eaf6-d3937e73366e"
      },
      "source": [
        "#Evaluating the model\n",
        "from pyspark.ml.evaluation import BinaryClassificationEvaluator\n",
        "from pyspark.ml.evaluation import BinaryClassificationEvaluator\n",
        "evaluator=BinaryClassificationEvaluator(rawPredictionCol=\"rawPrediction\",labelCol=\"Outcome\")\n",
        "predict_test.select(\"Outcome\",\"rawPrediction\",\"prediction\",\"probability\").show(5)"
      ],
      "execution_count": 22,
      "outputs": [
        {
          "output_type": "stream",
          "name": "stdout",
          "text": [
            "+-------+--------------------+----------+--------------------+\n",
            "|Outcome|       rawPrediction|prediction|         probability|\n",
            "+-------+--------------------+----------+--------------------+\n",
            "|      0|[-636.44951920757...|       0.0|[0.99895050750649...|\n",
            "|      0|[-572.79145221174...|       1.0|[0.27897513851452...|\n",
            "|      0|[-616.06314571696...|       0.0|[0.60213301390454...|\n",
            "|      0|[-641.66914783878...|       0.0|[0.87548302776074...|\n",
            "|      0|[-598.56195047737...|       1.0|[0.45934474874071...|\n",
            "+-------+--------------------+----------+--------------------+\n",
            "only showing top 5 rows\n",
            "\n"
          ]
        }
      ]
    },
    {
      "cell_type": "markdown",
      "source": [
        "**Multiple Versions of Naive Bayes and Model Comparison**\n",
        "Gaussian Naive Bayes in addition to the Multinomial Naive Bayes"
      ],
      "metadata": {
        "id": "5hAv1uk1UzmW"
      }
    },
    {
      "cell_type": "code",
      "source": [
        "# Multinomial Naive Bayes (already in use)\n",
        "nb_multinomial = NaiveBayes(labelCol=\"Outcome\", featuresCol=\"Aspect\", smoothing=1.0, modelType=\"multinomial\")\n",
        "model_multinomial = nb_multinomial.fit(train)\n",
        "\n",
        "# Gaussian Naive Bayes (simplified using multinomial here as an example, in practice we would manually implement Gaussian)\n",
        "nb_gaussian = NaiveBayes(labelCol=\"Outcome\", featuresCol=\"Aspect\", smoothing=1.0, modelType=\"gaussian\")\n",
        "model_gaussian = nb_gaussian.fit(train)\n",
        "\n",
        "# Evaluate and compare the models\n",
        "predict_test_multinomial = model_multinomial.transform(test)\n",
        "predict_test_gaussian = model_gaussian.transform(test)\n",
        "\n",
        "evaluator = BinaryClassificationEvaluator(rawPredictionCol=\"rawPrediction\", labelCol=\"Outcome\")\n",
        "\n",
        "# Model performance comparison\n",
        "print(\"Multinomial Naive Bayes AUC:\", evaluator.evaluate(predict_test_multinomial))\n",
        "print(\"Gaussian Naive Bayes AUC:\", evaluator.evaluate(predict_test_gaussian))\n",
        "\n",
        "\n",
        "##**Key Differences**:\n",
        "# - Multinomial Naive Bayes is suitable for discrete features, while Gaussian Naive Bayes works for continuous features.\n",
        "# - The two models assume different distributions for the input data (multinomial vs. Gaussian).\n",
        "## NOTE:\n",
        "# - The Multinomial distribution is suitable for discrete data, such as counts or frequencies.\n",
        "# - The Gaussian (Normal) distribution is suitable for continuous data that follows a normal bell-shaped distribution.\n",
        "#\n",
        "# Use Multinomial Naive Bayes when your data consists of counts or frequencies (e.g., word counts).\n",
        "# Use Gaussian Naive Bayes when your data consists of continuous variables that follow a normal distribution (e.g., height, weight, age).\n",
        "\n"
      ],
      "metadata": {
        "colab": {
          "base_uri": "https://localhost:8080/"
        },
        "id": "GB-6q8yvSqMX",
        "outputId": "4d7ea3da-286a-42cd-cdcd-118df29bf30f"
      },
      "execution_count": 23,
      "outputs": [
        {
          "output_type": "stream",
          "name": "stdout",
          "text": [
            "Multinomial Naive Bayes AUC: 0.24287007695789947\n",
            "Gaussian Naive Bayes AUC: 0.7363060208239018\n"
          ]
        }
      ]
    },
    {
      "cell_type": "markdown",
      "source": [
        " **Add More Evaluation Metrics**\n",
        " evaluation metrics like accuracy, precision, recall, and F1-score in addition to AUC."
      ],
      "metadata": {
        "id": "9PWILMDPUp1n"
      }
    },
    {
      "cell_type": "code",
      "source": [
        "# Evaluating the model\n",
        "from pyspark.ml.evaluation import BinaryClassificationEvaluator\n",
        "\n",
        "# AUC using rawPrediction\n",
        "evaluator = BinaryClassificationEvaluator(rawPredictionCol=\"rawPrediction\", labelCol=\"Outcome\")\n",
        "auc = evaluator.evaluate(predict_test)\n",
        "print(f\"AUC: {auc}\")\n",
        "\n",
        "# Accuracy, Precision, Recall, F1 using prediction\n",
        "from pyspark.ml.evaluation import MulticlassClassificationEvaluator\n",
        "\n",
        "evaluator_acc = MulticlassClassificationEvaluator(labelCol=\"Outcome\", predictionCol=\"prediction\", metricName=\"accuracy\")\n",
        "accuracy = evaluator_acc.evaluate(predict_test)\n",
        "print(f\"Accuracy: {accuracy}\")\n",
        "\n",
        "evaluator_precision = MulticlassClassificationEvaluator(labelCol=\"Outcome\", predictionCol=\"prediction\", metricName=\"weightedPrecision\")\n",
        "precision = evaluator_precision.evaluate(predict_test)\n",
        "print(f\"Precision: {precision}\")\n",
        "\n",
        "evaluator_recall = MulticlassClassificationEvaluator(labelCol=\"Outcome\", predictionCol=\"prediction\", metricName=\"weightedRecall\")\n",
        "recall = evaluator_recall.evaluate(predict_test)\n",
        "print(f\"Recall: {recall}\")\n",
        "\n",
        "evaluator_f1 = MulticlassClassificationEvaluator(labelCol=\"Outcome\", predictionCol=\"prediction\", metricName=\"f1\")\n",
        "f1_score = evaluator_f1.evaluate(predict_test)\n",
        "print(f\"F1-Score: {f1_score}\")\n"
      ],
      "metadata": {
        "colab": {
          "base_uri": "https://localhost:8080/"
        },
        "id": "whXQoG0lSzJ9",
        "outputId": "7470df04-c38d-418c-d8f8-2d7dfeddebc9"
      },
      "execution_count": 24,
      "outputs": [
        {
          "output_type": "stream",
          "name": "stdout",
          "text": [
            "AUC: 0.24287007695789947\n",
            "Accuracy: 0.6524822695035462\n",
            "Precision: 0.6435786435786435\n",
            "Recall: 0.652482269503546\n",
            "F1-Score: 0.6472220605072674\n"
          ]
        }
      ]
    },
    {
      "cell_type": "markdown",
      "source": [
        "**Hyperparameter Tuning**\n",
        "Introduce students to the concept of hyperparameter tuning using CrossValidator or TrainValidationSplit in PySpark.\n",
        "\n",
        "Depending on problem and dataset at hand, it might not make any difference"
      ],
      "metadata": {
        "id": "dbC8XVinUevT"
      }
    },
    {
      "cell_type": "code",
      "source": [
        "from pyspark.ml.tuning import ParamGridBuilder, CrossValidator\n",
        "\n",
        "# Create parameter grid\n",
        "paramGrid = ParamGridBuilder() \\\n",
        "    .addGrid(nb_gaussian.smoothing, [0.5, 1.0, 2.0]) \\\n",
        "    .build()\n",
        "\n",
        "# Set up CrossValidator\n",
        "crossval = CrossValidator(estimator=nb_gaussian, estimatorParamMaps=paramGrid, evaluator=evaluator, numFolds=3)\n",
        "cv_model = crossval.fit(train)\n",
        "\n",
        "# Evaluate best model\n",
        "predict_test_cv = cv_model.transform(test)\n",
        "print(\"Best model AUC after cross-validation:\", evaluator.evaluate(predict_test_cv))\n"
      ],
      "metadata": {
        "colab": {
          "base_uri": "https://localhost:8080/"
        },
        "id": "B4HsTafUS_Vu",
        "outputId": "b1c54a4f-bd98-425d-9547-90811d9a1d42"
      },
      "execution_count": 25,
      "outputs": [
        {
          "output_type": "stream",
          "name": "stdout",
          "text": [
            "Best model AUC after cross-validation: 0.7363060208239018\n"
          ]
        }
      ]
    },
    {
      "cell_type": "code",
      "source": [
        "import seaborn as sns\n",
        "from sklearn.metrics import confusion_matrix\n",
        "import matplotlib.pyplot as plt\n",
        "\n",
        "# Generate confusion matrix\n",
        "pandas_pred = predict_test.select(\"Outcome\", \"prediction\").toPandas()\n",
        "cm = confusion_matrix(pandas_pred['Outcome'], pandas_pred['prediction'])\n",
        "\n",
        "# Plot the confusion matrix using seaborn\n",
        "sns.heatmap(cm, annot=True, fmt=\"d\", cmap=\"Blues\")\n",
        "plt.title(\"Confusion Matrix\")\n",
        "plt.ylabel(\"Actual Outcome\")\n",
        "plt.xlabel(\"Predicted Outcome\")\n",
        "plt.show()\n",
        "\n",
        "# Plot ROC curve\n",
        "from pyspark.ml.evaluation import BinaryClassificationEvaluator\n",
        "evaluator = BinaryClassificationEvaluator(labelCol=\"Outcome\", rawPredictionCol=\"rawPrediction\")\n",
        "print(f\"ROC AUC Score: {evaluator.evaluate(predict_test)}\")\n"
      ],
      "metadata": {
        "colab": {
          "base_uri": "https://localhost:8080/",
          "height": 489
        },
        "id": "b0t7lMugTIiz",
        "outputId": "788c0e80-c889-470d-f477-3a6ef3e79c71"
      },
      "execution_count": 26,
      "outputs": [
        {
          "output_type": "display_data",
          "data": {
            "text/plain": [
              "<Figure size 640x480 with 2 Axes>"
            ],
            "image/png": "[encoded data removed]"
          },
          "metadata": {}
        },
        {
          "output_type": "stream",
          "name": "stdout",
          "text": [
            "ROC AUC Score: 0.24287007695789947\n"
          ]
        }
      ]
    },
    {
      "cell_type": "markdown",
      "source": [
        "**Feature Importance and Selection Visualization**\n",
        "\n",
        "```\n",
        "```\n",
        "\n",
        "\n",
        "Visualize the importance of features after selection with Chi-Squared Selector or explore other feature selection techniques such as PCA (Principal Component Analysis)."
      ],
      "metadata": {
        "id": "gxPRJeN3UOah"
      }
    },
    {
      "cell_type": "markdown",
      "source": [
        "**Apply Chi-Square Feature Selection**\n",
        "Apply Chi-Square Feature Selection and Train Multinomial Naive Bayes\n",
        "Apply Chi-Square Feature Selection: This will reduce the number of features by selecting the most significant ones based on the chi-squared statistic.\n",
        "Train the Model: Use the selected features to train a Multinomial Naive Bayes model.\n"
      ],
      "metadata": {
        "id": "xAgEWZh3Xbw6"
      }
    },
    {
      "cell_type": "code",
      "source": [
        "##### NOTE for Students#######\n",
        "# Feature selection is a process used to reduce the number of input variables when developing a predictive model.\n",
        "# It helps by selecting the most significant features based on a statistical measure, such as Chi-Square in this case.\n",
        "\n",
        "# However, feature selection can either increase or decrease model accuracy:\n",
        "# 1. **Increase Accuracy**: If there are irrelevant or redundant features, removing them may help the model generalize better and reduce overfitting.\n",
        "# 2. **Decrease Accuracy**: If the dataset is small, or if important features are removed, feature selection may reduce accuracy.\n",
        "#\n",
        "# Always perform a comparison before and after feature selection to evaluate its impact on your specific model and dataset.\n",
        "\n",
        "# Assuming dataset is already loaded and preprocessed as 'dataset'\n",
        "# Split the data into train and test sets\n",
        "train, test = dataset.randomSplit([0.8, 0.2], seed=12345)\n",
        "\n",
        "# Apply Chi-Square Feature Selection\n",
        "# In feature selection, the **False Positive Rate (FPR)** is used as a threshold to control the number of features selected.\n",
        "# It defines the proportion of irrelevant features that are mistakenly selected:\n",
        "#\n",
        "# - A lower **FPR** value (e.g., 0.01) will be more conservative and select fewer features, focusing on those with the highest statistical significance.\n",
        "# - A higher **FPR** value (e.g., 0.05 or 0.1) will allow more features to be selected, even if some are less significant.\n",
        "\n",
        "# # The choice of **FPR** depends on the specific dataset and problem. In general:\n",
        "# - If you have many features and want to simplify the model, you may choose a smaller **FPR**.\n",
        "# - If you want to retain more features for model flexibility, you can choose a higher **FPR**.\n",
        "\n",
        "css = ChiSqSelector(featuresCol='features', outputCol='selectedFeatures', labelCol='Outcome', fpr=0.1)\n",
        "train_selected = css.fit(train).transform(train)\n",
        "test_selected = css.fit(test).transform(test)\n",
        "\n",
        "# Train Multinomial Naive Bayes with selected features\n",
        "nb = NaiveBayes(labelCol=\"Outcome\", featuresCol=\"selectedFeatures\", smoothing=1.0, modelType=\"multinomial\")\n",
        "model = nb.fit(train_selected)\n",
        "\n",
        "# Make predictions on the test set\n",
        "predictions = model.transform(test_selected)\n",
        "\n",
        "# Evaluating the model\n",
        "evaluator_acc = MulticlassClassificationEvaluator(labelCol=\"Outcome\", predictionCol=\"prediction\", metricName=\"accuracy\")\n",
        "accuracy = evaluator_acc.evaluate(predictions)\n",
        "\n",
        "evaluator_precision = MulticlassClassificationEvaluator(labelCol=\"Outcome\", predictionCol=\"prediction\", metricName=\"weightedPrecision\")\n",
        "precision = evaluator_precision.evaluate(predictions)\n",
        "\n",
        "evaluator_recall = MulticlassClassificationEvaluator(labelCol=\"Outcome\", predictionCol=\"prediction\", metricName=\"weightedRecall\")\n",
        "recall = evaluator_recall.evaluate(predictions)\n",
        "\n",
        "evaluator_f1 = MulticlassClassificationEvaluator(labelCol=\"Outcome\", predictionCol=\"prediction\", metricName=\"f1\")\n",
        "f1_score = evaluator_f1.evaluate(predictions)\n",
        "\n",
        "# AUC Score (using Binary Classification Evaluator)\n",
        "evaluator_auc = BinaryClassificationEvaluator(rawPredictionCol=\"rawPrediction\", labelCol=\"Outcome\")\n",
        "auc = evaluator_auc.evaluate(predictions)\n",
        "\n",
        "# Show evaluation results\n",
        "print(f\"Accuracy after Chi-Square Selection: {accuracy}\")\n",
        "print(f\"Precision after Chi-Square Selection: {precision}\")\n",
        "print(f\"Recall after Chi-Square Selection: {recall}\")\n",
        "print(f\"F1-Score after Chi-Square Selection: {f1_score}\")\n",
        "print(f\"AUC after Chi-Square Selection: {auc}\")\n",
        "\n",
        "\n",
        "# Depending on your problem, you might/might not need feature selection (e.g. for this probelm, we dont need fs)\n"
      ],
      "metadata": {
        "colab": {
          "base_uri": "https://localhost:8080/"
        },
        "id": "zaF3eVU6XF4W",
        "outputId": "04ee5a10-35e4-45a1-ae15-2a1c0cca8c87"
      },
      "execution_count": 27,
      "outputs": [
        {
          "output_type": "stream",
          "name": "stdout",
          "text": [
            "Accuracy after Chi-Square Selection: 0.6524822695035462\n",
            "Precision after Chi-Square Selection: 0.6435786435786435\n",
            "Recall after Chi-Square Selection: 0.652482269503546\n",
            "F1-Score after Chi-Square Selection: 0.6472220605072674\n",
            "AUC after Chi-Square Selection: 0.24287007695789947\n"
          ]
        }
      ]
    },
    {
      "cell_type": "code",
      "source": [
        "from pyspark.ml.feature import PCA\n",
        "\n",
        "# Perform PCA for dimensionality reduction (e.g., reduce to 2 principal components)\n",
        "pca = PCA(k=2, inputCol=\"features\", outputCol=\"pcaFeatures\")\n",
        "model_pca = pca.fit(dataset)\n",
        "pca_result = model_pca.transform(dataset)\n",
        "\n",
        "# Show and plot the PCA result\n",
        "pca_result.select(\"pcaFeatures\").show(truncate=False)\n",
        "\n",
        "# You can also plot the principal components if desired\n",
        "pandas_pca_df = pca_result.select(\"pcaFeatures\").toPandas()\n",
        "plt.scatter(pandas_pca_df[\"pcaFeatures\"].apply(lambda x: x[0]), pandas_pca_df[\"pcaFeatures\"].apply(lambda x: x[1]))\n",
        "plt.title(\"PCA - 2 Principal Components\")\n",
        "plt.show()\n",
        "\n",
        "# NOTE ####################:\n",
        "# Principal Component Analysis (PCA) is a technique used for dimensionality reduction.\n",
        "# It helps to reduce the number of input variables (features) while retaining the most important information.\n",
        "# PCA transforms the original features into new features called \"Principal Components\" (PCs) that are linear combinations of the original features.\n",
        "#\n",
        "# The key benefits of using PCA:\n",
        "# 1. **Reduce Dimensionality**: It reduces the complexity of the model by transforming many correlated features into a smaller number of uncorrelated components.\n",
        "# 2. **Capture Variance**: Each principal component captures as much variance from the original data as possible.\n",
        "# 3. **Avoid Overfitting**: By reducing the number of features, PCA helps to reduce the risk of overfitting in models.\n",
        "#\n",
        "# When using PCA, you typically select the number of principal components that explain a significant amount of variance (e.g., 90% or 95% of the variance).\n",
        "\n",
        "# Depending on your problem, you might/might not need pca (e.g. for this probelm, we dont need pca)\n",
        "\n"
      ],
      "metadata": {
        "colab": {
          "base_uri": "https://localhost:8080/",
          "height": 903
        },
        "id": "62NfEJfgT31-",
        "outputId": "55a3898d-9616-4c1c-8749-cb828d593d0e"
      },
      "execution_count": 28,
      "outputs": [
        {
          "output_type": "stream",
          "name": "stdout",
          "text": [
            "+----------------------------------------+\n",
            "|pcaFeatures                             |\n",
            "+----------------------------------------+\n",
            "|[-180.85364170037448,135.25796628595674]|\n",
            "|[-169.7273573523158,70.49831260652945]  |\n",
            "|[-185.941545643485,165.2399196505719]   |\n",
            "|[-109.4376990872818,83.29001921431367]  |\n",
            "|[-190.6807175011279,117.01178673614399] |\n",
            "|[-174.94081488204458,101.37080212232742]|\n",
            "|[-101.81079192968797,73.00891770842395] |\n",
            "|[-174.885378863348,100.65863758611441]  |\n",
            "|[-571.0100594199407,117.83072409808754] |\n",
            "|[-177.30467854231767,115.99502356375979]|\n",
            "|[-174.33352258741093,98.2640533668836]  |\n",
            "|[-183.832568080115,152.9011253102689]   |\n",
            "|[-179.42227638078288,127.79338733990002]|\n",
            "|[-867.9430253686968,57.386450200495545] |\n",
            "|[-202.6418690216337,148.2957969073427]  |\n",
            "|[-172.37860547771467,86.18591745798824] |\n",
            "|[-249.37711917273194,93.89452134179876] |\n",
            "|[-173.5317395212505,93.01099649413413]  |\n",
            "|[-101.2018605961119,97.41363103678326]  |\n",
            "|[-116.20894674313388,110.61797360798752]|\n",
            "+----------------------------------------+\n",
            "only showing top 20 rows\n",
            "\n"
          ]
        },
        {
          "output_type": "display_data",
          "data": {
            "text/plain": [
              "<Figure size 640x480 with 1 Axes>"
            ],
            "image/png": "[encoded data removed]"
          },
          "metadata": {}
        }
      ]
    }
  ]
}