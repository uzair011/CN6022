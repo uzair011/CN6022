{
  "nbformat": 4,
  "nbformat_minor": 0,
  "metadata": {
    "colab": {
      "provenance": [],
      "authorship_tag": "ABX9TyPT3LXlqV6ZzioXF7kaaHsz",
      "include_colab_link": true
    },
    "kernelspec": {
      "name": "python3",
      "display_name": "Python 3"
    },
    "language_info": {
      "name": "python"
    }
  },
  "cells": [
    {
      "cell_type": "markdown",
      "metadata": {
        "id": "view-in-github",
        "colab_type": "text"
      },
      "source": [
        "<a href=\"https://colab.research.google.com/github/uzair011/CN6022/blob/main/flights.ipynb\" target=\"_parent\"><img src=\"https://colab.research.google.com/assets/colab-badge.svg\" alt=\"Open In Colab\"/></a>"
      ]
    },
    {
      "cell_type": "code",
      "source": [
        "!pip install pyspark"
      ],
      "metadata": {
        "colab": {
          "base_uri": "https://localhost:8080/"
        },
        "id": "JLdmmGw0joEu",
        "outputId": "4b88f227-49b7-4103-88fd-16e04d7b9153"
      },
      "execution_count": 1,
      "outputs": [
        {
          "output_type": "stream",
          "name": "stdout",
          "text": [
            "Requirement already satisfied: pyspark in /usr/local/lib/python3.10/dist-packages (3.5.3)\n",
            "Requirement already satisfied: py4j==0.10.9.7 in /usr/local/lib/python3.10/dist-packages (from pyspark) (0.10.9.7)\n"
          ]
        }
      ]
    },
    {
      "cell_type": "code",
      "source": [
        "from pyspark.sql import SparkSession\n",
        "spark = SparkSession.builder.master(\"local[*]\").getOrCreate()\n"
      ],
      "metadata": {
        "id": "211GybeDQyCl"
      },
      "execution_count": 3,
      "outputs": []
    },
    {
      "cell_type": "code",
      "source": [
        "dff = spark.read.csv('/content/Combined_Flights_2022.csv',inferSchema=True, header =True)\n"
      ],
      "metadata": {
        "id": "7Qs1LFJFQ-_r"
      },
      "execution_count": 4,
      "outputs": []
    },
    {
      "cell_type": "code",
      "source": [
        "from pyspark.sql import SparkSession\n",
        "\n",
        "\n",
        "\n",
        "spark = SparkSession \\\n",
        "    .builder \\\n",
        "    .appName(\"Python Spark SQL basic example\") \\\n",
        "    .config(\"spark.some.config.option\", \"some-value\") \\\n",
        "    .getOrCreate()\n",
        "\n",
        "print(\"SparkSession initialized successfully!\")\n"
      ],
      "metadata": {
        "id": "gfwtys8gT2sK"
      },
      "execution_count": null,
      "outputs": []
    },
    {
      "cell_type": "code",
      "source": [
        "print(dff.count())"
      ],
      "metadata": {
        "colab": {
          "base_uri": "https://localhost:8080/"
        },
        "id": "9Lz5iiwkRGGI",
        "outputId": "a25f4466-fd37-4ec8-e4d4-0c233031bb51"
      },
      "execution_count": 5,
      "outputs": [
        {
          "output_type": "stream",
          "name": "stdout",
          "text": [
            "299414\n"
          ]
        }
      ]
    },
    {
      "cell_type": "code",
      "source": [
        "dff.printSchema()"
      ],
      "metadata": {
        "colab": {
          "base_uri": "https://localhost:8080/"
        },
        "id": "LkR08WKTROpR",
        "outputId": "efae781d-86b8-42ec-f800-44f27a404512"
      },
      "execution_count": 6,
      "outputs": [
        {
          "output_type": "stream",
          "name": "stdout",
          "text": [
            "root\n",
            " |-- FlightDate: date (nullable = true)\n",
            " |-- Airline: string (nullable = true)\n",
            " |-- Origin: string (nullable = true)\n",
            " |-- Dest: string (nullable = true)\n",
            " |-- Cancelled: boolean (nullable = true)\n",
            " |-- Diverted: boolean (nullable = true)\n",
            " |-- CRSDepTime: integer (nullable = true)\n",
            " |-- DepTime: double (nullable = true)\n",
            " |-- DepDelayMinutes: double (nullable = true)\n",
            " |-- DepDelay: double (nullable = true)\n",
            " |-- ArrTime: double (nullable = true)\n",
            " |-- ArrDelayMinutes: double (nullable = true)\n",
            " |-- AirTime: double (nullable = true)\n",
            " |-- CRSElapsedTime: double (nullable = true)\n",
            " |-- ActualElapsedTime: double (nullable = true)\n",
            " |-- Distance: double (nullable = true)\n",
            " |-- Year: integer (nullable = true)\n",
            " |-- Quarter: integer (nullable = true)\n",
            " |-- Month: integer (nullable = true)\n",
            " |-- DayofMonth: integer (nullable = true)\n",
            " |-- DayOfWeek: integer (nullable = true)\n",
            " |-- Marketing_Airline_Network: string (nullable = true)\n",
            " |-- Operated_or_Branded_Code_Share_Partners: string (nullable = true)\n",
            " |-- DOT_ID_Marketing_Airline: integer (nullable = true)\n",
            " |-- IATA_Code_Marketing_Airline: string (nullable = true)\n",
            " |-- Flight_Number_Marketing_Airline: integer (nullable = true)\n",
            " |-- Operating_Airline: string (nullable = true)\n",
            " |-- DOT_ID_Operating_Airline: integer (nullable = true)\n",
            " |-- IATA_Code_Operating_Airline: string (nullable = true)\n",
            " |-- Tail_Number: string (nullable = true)\n",
            " |-- Flight_Number_Operating_Airline: integer (nullable = true)\n",
            " |-- OriginAirportID: integer (nullable = true)\n",
            " |-- OriginAirportSeqID: integer (nullable = true)\n",
            " |-- OriginCityMarketID: integer (nullable = true)\n",
            " |-- OriginCityName: string (nullable = true)\n",
            " |-- OriginState: string (nullable = true)\n",
            " |-- OriginStateFips: integer (nullable = true)\n",
            " |-- OriginStateName: string (nullable = true)\n",
            " |-- OriginWac: integer (nullable = true)\n",
            " |-- DestAirportID: integer (nullable = true)\n",
            " |-- DestAirportSeqID: integer (nullable = true)\n",
            " |-- DestCityMarketID: integer (nullable = true)\n",
            " |-- DestCityName: string (nullable = true)\n",
            " |-- DestState: string (nullable = true)\n",
            " |-- DestStateFips: integer (nullable = true)\n",
            " |-- DestStateName: string (nullable = true)\n",
            " |-- DestWac: integer (nullable = true)\n",
            " |-- DepDel15: double (nullable = true)\n",
            " |-- DepartureDelayGroups: double (nullable = true)\n",
            " |-- DepTimeBlk: string (nullable = true)\n",
            " |-- TaxiOut: double (nullable = true)\n",
            " |-- WheelsOff: double (nullable = true)\n",
            " |-- WheelsOn: double (nullable = true)\n",
            " |-- TaxiIn: double (nullable = true)\n",
            " |-- CRSArrTime: integer (nullable = true)\n",
            " |-- ArrDelay: double (nullable = true)\n",
            " |-- ArrDel15: double (nullable = true)\n",
            " |-- ArrivalDelayGroups: double (nullable = true)\n",
            " |-- ArrTimeBlk: string (nullable = true)\n",
            " |-- DistanceGroup: integer (nullable = true)\n",
            " |-- DivAirportLandings: integer (nullable = true)\n",
            "\n"
          ]
        }
      ]
    },
    {
      "cell_type": "code",
      "source": [
        "#Average Departure Delay by Airline:\n",
        "\n",
        "# Register the DataFrame as a SQL temporary view\n",
        "dff.createOrReplaceTempView(\"flights\")\n",
        "\n",
        "# SQL query to find average departure delay by airline\n",
        "avg_dep_delay_by_airline = spark.sql(\"\"\"\n",
        "    SELECT Airline, AVG(DepDelayMinutes) as AvgDepDelay\n",
        "    FROM flights\n",
        "    GROUP BY Airline\n",
        "    ORDER BY AvgDepDelay DESC\n",
        "\"\"\")\n",
        "\n",
        "# Show the result\n",
        "avg_dep_delay_by_airline.show()"
      ],
      "metadata": {
        "colab": {
          "base_uri": "https://localhost:8080/"
        },
        "id": "SyzTbIKGRUDp",
        "outputId": "c31c52a2-478d-49fe-b839-80c95bcdbd09"
      },
      "execution_count": 9,
      "outputs": [
        {
          "output_type": "stream",
          "name": "stdout",
          "text": [
            "+--------------------+------------------+\n",
            "|             Airline|       AvgDepDelay|\n",
            "+--------------------+------------------+\n",
            "|     JetBlue Airways| 38.50731286337209|\n",
            "|SkyWest Airlines ...|              23.5|\n",
            "|Southwest Airline...|  17.8786564903632|\n",
            "|American Airlines...|15.910828122154088|\n",
            "|GoJet Airlines, L...|14.906091370558375|\n",
            "|Delta Air Lines Inc.|14.860218448134352|\n",
            "|Commutair Aka Cha...|14.833592534992224|\n",
            "|  Mesa Airlines Inc.|12.470290278589518|\n",
            "|Alaska Airlines Inc.| 12.30055152077759|\n",
            "|   Republic Airlines|12.210840089936635|\n",
            "|   Endeavor Air Inc.| 9.726229099076615|\n",
            "|Capital Cargo Int...| 7.902511880515954|\n",
            "|Air Wisconsin Air...| 7.115979381443299|\n",
            "+--------------------+------------------+\n",
            "\n"
          ]
        }
      ]
    },
    {
      "cell_type": "code",
      "source": [
        "#Count Flights by Origin and Destination:\n",
        "\n",
        "# SQL query to count flights by origin and destination\n",
        "flight_counts = spark.sql(\"\"\"\n",
        "    SELECT Origin, Dest, COUNT(*) as FlightCount\n",
        "    FROM flights\n",
        "    GROUP BY Origin, Dest\n",
        "    ORDER BY FlightCount DESC\n",
        "\"\"\")\n",
        "\n",
        "# Show the result\n",
        "flight_counts.show(45)\n"
      ],
      "metadata": {
        "colab": {
          "base_uri": "https://localhost:8080/"
        },
        "id": "Hm3NsWv0Tr8A",
        "outputId": "3d15f23f-0b9d-4167-90eb-e2e6d0304f6d"
      },
      "execution_count": 11,
      "outputs": [
        {
          "output_type": "stream",
          "name": "stdout",
          "text": [
            "+------+----+-----------+\n",
            "|Origin|Dest|FlightCount|\n",
            "+------+----+-----------+\n",
            "|   BOS| DCA|        885|\n",
            "|   DCA| BOS|        885|\n",
            "|   LAX| JFK|        694|\n",
            "|   JFK| LAX|        691|\n",
            "|   BOS| LGA|        658|\n",
            "|   LGA| BOS|        641|\n",
            "|   LGA| DCA|        601|\n",
            "|   DCA| LGA|        601|\n",
            "|   LGA| ATL|        552|\n",
            "|   ORD| LGA|        532|\n",
            "|   SFO| JFK|        519|\n",
            "|   JFK| SFO|        518|\n",
            "|   ATL| LGA|        486|\n",
            "|   LGA| ORD|        483|\n",
            "|   MIA| JFK|        479|\n",
            "|   DCA| ATL|        464|\n",
            "|   SEA| ANC|        456|\n",
            "|   DFW| LGA|        455|\n",
            "|   CLT| LGA|        452|\n",
            "|   LGA| CLT|        451|\n",
            "|   JFK| MIA|        449|\n",
            "|   ATL| DCA|        438|\n",
            "|   ANC| SEA|        425|\n",
            "|   LGA| DFW|        424|\n",
            "|   BOS| PHL|        404|\n",
            "|   PHL| BOS|        403|\n",
            "|   JFK| BOS|        402|\n",
            "|   BOS| JFK|        399|\n",
            "|   LAX| LAS|        397|\n",
            "|   LAS| LAX|        395|\n",
            "|   LAS| PHX|        387|\n",
            "|   PHX| LAS|        387|\n",
            "|   BUR| OAK|        383|\n",
            "|   OAK| BUR|        382|\n",
            "|   PHX| SEA|        380|\n",
            "|   DEN| PHX|        380|\n",
            "|   PHX| DEN|        379|\n",
            "|   BOS| CLT|        378|\n",
            "|   CLT| BOS|        378|\n",
            "|   SEA| PHX|        377|\n",
            "|   LGA| BNA|        374|\n",
            "|   PHX| SNA|        374|\n",
            "|   SNA| PHX|        374|\n",
            "|   LGA| STL|        371|\n",
            "|   STL| LGA|        370|\n",
            "+------+----+-----------+\n",
            "only showing top 45 rows\n",
            "\n"
          ]
        }
      ]
    },
    {
      "cell_type": "code",
      "source": [
        "#Find the Percentage of Cancelled Flights:\n",
        "\n",
        "# SQL query to find the percentage of cancelled flights\n",
        "cancelled_flights_percentage = spark.sql(\"\"\"\n",
        "    SELECT\n",
        "        (SUM(CASE WHEN Cancelled = true THEN 1 ELSE 0 END) / COUNT(*)) * 100 as CancelledPercentage\n",
        "    FROM flights\n",
        "\"\"\")\n",
        "\n",
        "# Show the result\n",
        "cancelled_flights_percentage.show()"
      ],
      "metadata": {
        "colab": {
          "base_uri": "https://localhost:8080/"
        },
        "id": "oiX6X6I6T3fk",
        "outputId": "2a75d5f6-3116-4496-8c66-cd7f5ef1941c"
      },
      "execution_count": 12,
      "outputs": [
        {
          "output_type": "stream",
          "name": "stdout",
          "text": [
            "+-------------------+\n",
            "|CancelledPercentage|\n",
            "+-------------------+\n",
            "| 2.5673482201901043|\n",
            "+-------------------+\n",
            "\n"
          ]
        }
      ]
    }
  ]
}