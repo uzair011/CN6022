{
  "nbformat": 4,
  "nbformat_minor": 0,
  "metadata": {
    "colab": {
      "provenance": []
    },
    "kernelspec": {
      "name": "python3",
      "display_name": "Python 3"
    },
    "language_info": {
      "name": "python"
    }
  },
  "cells": [
    {
      "cell_type": "code",
      "execution_count": 2,
      "metadata": {
        "colab": {
          "base_uri": "https://localhost:8080/"
        },
        "id": "OA27k-5OkWcb",
        "outputId": "7f37b204-bbd3-4b1d-a60d-4cf5ade25ecf"
      },
      "outputs": [
        {
          "output_type": "stream",
          "name": "stdout",
          "text": [
            "Collecting pyspark\n",
            "  Downloading pyspark-3.5.3.tar.gz (317.3 MB)\n",
            "\u001b[2K     \u001b[90m━━━━━━━━━━━━━━━━━━━━━━━━━━━━━━━━━━━━━━━━\u001b[0m \u001b[32m317.3/317.3 MB\u001b[0m \u001b[31m4.3 MB/s\u001b[0m eta \u001b[36m0:00:00\u001b[0m\n",
            "\u001b[?25h  Preparing metadata (setup.py) ... \u001b[?25l\u001b[?25hdone\n",
            "Requirement already satisfied: py4j==0.10.9.7 in /usr/local/lib/python3.10/dist-packages (from pyspark) (0.10.9.7)\n",
            "Building wheels for collected packages: pyspark\n",
            "  Building wheel for pyspark (setup.py) ... \u001b[?25l\u001b[?25hdone\n",
            "  Created wheel for pyspark: filename=pyspark-3.5.3-py2.py3-none-any.whl size=317840625 sha256=3c537d4b4710ae091622230dfbf441e551bb38bc3f98274ccbde289a2b6a4418\n",
            "  Stored in directory: /root/.cache/pip/wheels/1b/3a/92/28b93e2fbfdbb07509ca4d6f50c5e407f48dce4ddbda69a4ab\n",
            "Successfully built pyspark\n",
            "Installing collected packages: pyspark\n",
            "Successfully installed pyspark-3.5.3\n"
          ]
        }
      ],
      "source": [
        "!pip3 install pyspark"
      ]
    },
    {
      "cell_type": "code",
      "source": [
        "# Reading the file\n",
        "\n",
        "from pyspark.sql import SparkSession\n",
        "spark = SparkSession \\\n",
        "    .builder \\\n",
        "    .appName(\"Python Spark SQL basic example\") \\\n",
        "    .config(\"spark.some.config.option\", \"some-value\") \\\n",
        "    .getOrCreate()"
      ],
      "metadata": {
        "id": "o_qtM79rpZJJ"
      },
      "execution_count": 5,
      "outputs": []
    },
    {
      "cell_type": "code",
      "source": [
        "# Create dataframe and display\n",
        "\n",
        "fifa_df = spark.read.load(\"CompleteDataset.csv\", format=\"csv\", inferSchema=True, header=True)\n",
        "df2 = spark.read.load(\"CompleteDataset.csv\", format=\"csv\", inferSchema=True, header=True)\n",
        "fifa_df.show()"
      ],
      "metadata": {
        "colab": {
          "base_uri": "https://localhost:8080/"
        },
        "id": "icY7yivwp01T",
        "outputId": "1242b85c-fe85-4b25-f4d4-04336f044fc1"
      },
      "execution_count": 7,
      "outputs": [
        {
          "output_type": "stream",
          "name": "stdout",
          "text": [
            "+---+-----------------+---+--------------------+-----------+--------------------+-------+---------+-------------------+--------------------+------+-----+-------+------------+----------+-------+-------+------------+---------+--------+-----+---------+---------+------------------+---------+-----------+----------+--------------+-----------+----------------+-------------+-------+------------+----------+-------+---------+-----------+---------+-------------+----------+--------------+------------+-------+---------------+--------+------+-------+----+----+----+----+----+------+----+----+----+----+----+----+----+----+----+----+-------------------+----+----+----+----+----+----+----+----+----+----+----+\n",
            "|_c0|             Name|Age|               Photo|Nationality|                Flag|Overall|Potential|               Club|           Club Logo| Value| Wage|Special|Acceleration|Aggression|Agility|Balance|Ball control|Composure|Crossing|Curve|Dribbling|Finishing|Free kick accuracy|GK diving|GK handling|GK kicking|GK positioning|GK reflexes|Heading accuracy|Interceptions|Jumping|Long passing|Long shots|Marking|Penalties|Positioning|Reactions|Short passing|Shot power|Sliding tackle|Sprint speed|Stamina|Standing tackle|Strength|Vision|Volleys| CAM|  CB| CDM|  CF|  CM|    ID| LAM|  LB| LCB| LCM| LDM|  LF|  LM|  LS|  LW| LWB|Preferred Positions| RAM|  RB| RCB| RCM| RDM|  RF|  RM|  RS|  RW| RWB|  ST|\n",
            "+---+-----------------+---+--------------------+-----------+--------------------+-------+---------+-------------------+--------------------+------+-----+-------+------------+----------+-------+-------+------------+---------+--------+-----+---------+---------+------------------+---------+-----------+----------+--------------+-----------+----------------+-------------+-------+------------+----------+-------+---------+-----------+---------+-------------+----------+--------------+------------+-------+---------------+--------+------+-------+----+----+----+----+----+------+----+----+----+----+----+----+----+----+----+----+-------------------+----+----+----+----+----+----+----+----+----+----+----+\n",
            "|  0|Cristiano Ronaldo| 32|https://cdn.sofif...|   Portugal|https://cdn.sofif...|     94|       94|     Real Madrid CF|https://cdn.sofif...|€95.5M|€565K|   2228|          89|        63|     89|     63|          93|       95|      85|   81|       91|       94|                76|        7|         11|        15|            14|         11|              88|           29|     95|          77|        92|     22|       85|         95|       96|           83|        94|            23|          91|     92|             31|      80|    85|     88|89.0|53.0|62.0|91.0|82.0| 20801|89.0|61.0|53.0|82.0|62.0|91.0|89.0|92.0|91.0|66.0|             ST LW |89.0|61.0|53.0|82.0|62.0|91.0|89.0|92.0|91.0|66.0|92.0|\n",
            "|  1|         L. Messi| 30|https://cdn.sofif...|  Argentina|https://cdn.sofif...|     93|       93|       FC Barcelona|https://cdn.sofif...| €105M|€565K|   2154|          92|        48|     90|     95|          95|       96|      77|   89|       97|       95|                90|        6|         11|        15|            14|          8|              71|           22|     68|          87|        88|     13|       74|         93|       95|           88|        85|            26|          87|     73|             28|      59|    90|     85|92.0|45.0|59.0|92.0|84.0|158023|92.0|57.0|45.0|84.0|59.0|92.0|90.0|88.0|91.0|62.0|                RW |92.0|57.0|45.0|84.0|59.0|92.0|90.0|88.0|91.0|62.0|88.0|\n",
            "|  2|           Neymar| 25|https://cdn.sofif...|     Brazil|https://cdn.sofif...|     92|       94|Paris Saint-Germain|https://cdn.sofif...| €123M|€280K|   2100|          94|        56|     96|     82|          95|       92|      75|   81|       96|       89|                84|        9|          9|        15|            15|         11|              62|           36|     61|          75|        77|     21|       81|         90|       88|           81|        80|            33|          90|     78|             24|      53|    80|     83|88.0|46.0|59.0|88.0|79.0|190871|88.0|59.0|46.0|79.0|59.0|88.0|87.0|84.0|89.0|64.0|                LW |88.0|59.0|46.0|79.0|59.0|88.0|87.0|84.0|89.0|64.0|84.0|\n",
            "|  3|        L. Suárez| 30|https://cdn.sofif...|    Uruguay|https://cdn.sofif...|     92|       92|       FC Barcelona|https://cdn.sofif...|  €97M|€510K|   2291|          88|        78|     86|     60|          91|       83|      77|   86|       86|       94|                84|       27|         25|        31|            33|         37|              77|           41|     69|          64|        86|     30|       85|         92|       93|           83|        87|            38|          77|     89|             45|      80|    84|     88|87.0|58.0|65.0|88.0|80.0|176580|87.0|64.0|58.0|80.0|65.0|88.0|85.0|88.0|87.0|68.0|                ST |87.0|64.0|58.0|80.0|65.0|88.0|85.0|88.0|87.0|68.0|88.0|\n",
            "|  4|         M. Neuer| 31|https://cdn.sofif...|    Germany|https://cdn.sofif...|     92|       92|   FC Bayern Munich|https://cdn.sofif...|  €61M|€230K|   1493|          58|        29|     52|     35|          48|       70|      15|   14|       30|       13|                11|       91|         90|        95|            91|         89|              25|           30|     78|          59|        16|     10|       47|         12|       85|           55|        25|            11|          61|     44|             10|      83|    70|     11|NULL|NULL|NULL|NULL|NULL|167495|NULL|NULL|NULL|NULL|NULL|NULL|NULL|NULL|NULL|NULL|                GK |NULL|NULL|NULL|NULL|NULL|NULL|NULL|NULL|NULL|NULL|NULL|\n",
            "|  5|   R. Lewandowski| 28|https://cdn.sofif...|     Poland|https://cdn.sofif...|     91|       91|   FC Bayern Munich|https://cdn.sofif...|  €92M|€355K|   2143|          79|        80|     78|     80|          89|       87|      62|   77|       85|       91|                84|       15|          6|        12|             8|         10|              85|           39|     84|          65|        83|     25|       81|         91|       91|           83|        88|            19|          83|     79|             42|      84|    78|     87|84.0|57.0|62.0|87.0|78.0|188545|84.0|58.0|57.0|78.0|62.0|87.0|82.0|88.0|84.0|61.0|                ST |84.0|58.0|57.0|78.0|62.0|87.0|82.0|88.0|84.0|61.0|88.0|\n",
            "|  6|           De Gea| 26|https://cdn.sofif...|      Spain|https://cdn.sofif...|     90|       92|  Manchester United|https://cdn.sofif...|€64.5M|€215K|   1458|          57|        38|     60|     43|          42|       64|      17|   21|       18|       13|                19|       90|         85|        87|            86|         90|              21|           30|     67|          51|        12|     13|       40|         12|       88|           50|        31|            13|          58|     40|             21|      64|    68|     13|NULL|NULL|NULL|NULL|NULL|193080|NULL|NULL|NULL|NULL|NULL|NULL|NULL|NULL|NULL|NULL|                GK |NULL|NULL|NULL|NULL|NULL|NULL|NULL|NULL|NULL|NULL|NULL|\n",
            "|  7|        E. Hazard| 26|https://cdn.sofif...|    Belgium|https://cdn.sofif...|     90|       91|            Chelsea|https://cdn.sofif...|€90.5M|€295K|   2096|          93|        54|     93|     91|          92|       87|      80|   82|       93|       83|                79|       11|         12|         6|             8|          8|              57|           41|     59|          81|        82|     25|       86|         85|       85|           86|        79|            22|          87|     79|             27|      65|    86|     79|88.0|47.0|61.0|87.0|81.0|183277|88.0|59.0|47.0|81.0|61.0|87.0|87.0|82.0|88.0|64.0|                LW |88.0|59.0|47.0|81.0|61.0|87.0|87.0|82.0|88.0|64.0|82.0|\n",
            "|  8|         T. Kroos| 27|https://cdn.sofif...|    Germany|https://cdn.sofif...|     90|       90|     Real Madrid CF|https://cdn.sofif...|  €79M|€340K|   2165|          60|        60|     71|     69|          89|       85|      85|   85|       79|       76|                84|       10|         11|        13|             7|         10|              54|           85|     32|          93|        90|     63|       73|         79|       86|           90|        87|            69|          52|     77|             82|      74|    88|     82|83.0|72.0|82.0|81.0|87.0|182521|83.0|76.0|72.0|87.0|82.0|81.0|81.0|77.0|80.0|78.0|            CDM CM |83.0|76.0|72.0|87.0|82.0|81.0|81.0|77.0|80.0|78.0|77.0|\n",
            "|  9|       G. Higuaín| 29|https://cdn.sofif...|  Argentina|https://cdn.sofif...|     90|       90|           Juventus|https://cdn.sofif...|  €77M|€275K|   1961|          78|        50|     75|     69|          85|       86|      68|   74|       84|       91|                62|        5|         12|         7|             5|         10|              86|           20|     79|          59|        82|     12|       70|         92|       88|           75|        88|            18|          80|     72|             22|      85|    70|     88|81.0|46.0|52.0|84.0|71.0|167664|81.0|51.0|46.0|71.0|52.0|84.0|79.0|87.0|82.0|55.0|                ST |81.0|51.0|46.0|71.0|52.0|84.0|79.0|87.0|82.0|55.0|87.0|\n",
            "| 10|     Sergio Ramos| 31|https://cdn.sofif...|      Spain|https://cdn.sofif...|     90|       90|     Real Madrid CF|https://cdn.sofif...|  €52M|€310K|   2153|          75|        84|     79|     60|          84|       80|      66|   73|       61|       60|                67|       11|          8|         9|             7|         11|              91|           88|     93|          72|        55|     86|       68|         52|       85|           78|        79|            91|          77|     84|             89|      81|    63|     66|70.0|87.0|83.0|70.0|74.0|155862|70.0|84.0|87.0|74.0|83.0|70.0|71.0|72.0|69.0|81.0|                CB |70.0|84.0|87.0|74.0|83.0|70.0|71.0|72.0|69.0|81.0|72.0|\n",
            "| 11|     K. De Bruyne| 26|https://cdn.sofif...|    Belgium|https://cdn.sofif...|     89|       92|    Manchester City|https://cdn.sofif...|  €83M|€285K|   2162|          76|        68|     80|     75|          87|       84|      90|   83|       85|       83|                83|       15|         13|         5|            10|         13|              53|           56|     65|          84|        86|     30|       77|         84|       88|           90|        85|            40|          75|     87|             51|      73|    90|     82|86.0|57.0|70.0|85.0|84.0|192985|86.0|66.0|57.0|84.0|70.0|85.0|85.0|81.0|85.0|71.0|         RM CM CAM |86.0|66.0|57.0|84.0|70.0|85.0|85.0|81.0|85.0|71.0|81.0|\n",
            "| 12|      T. Courtois| 25|https://cdn.sofif...|    Belgium|https://cdn.sofif...|     89|       92|            Chelsea|https://cdn.sofif...|  €59M|€190K|   1282|          46|        23|     61|     45|          23|       52|      14|   19|       13|       14|                11|       85|         91|        69|            86|         88|              13|           15|     68|          31|        17|     11|       27|         13|       81|           32|        36|            16|          52|     38|             18|      70|    44|     12|NULL|NULL|NULL|NULL|NULL|192119|NULL|NULL|NULL|NULL|NULL|NULL|NULL|NULL|NULL|NULL|                GK |NULL|NULL|NULL|NULL|NULL|NULL|NULL|NULL|NULL|NULL|NULL|\n",
            "| 13|       A. Sánchez| 28|https://cdn.sofif...|      Chile|https://cdn.sofif...|     89|       89|            Arsenal|https://cdn.sofif...|€67.5M|€265K|   2181|          88|        80|     90|     87|          87|       86|      80|   78|       90|       85|                78|       10|         10|        15|            12|         13|              70|           42|     85|          73|        82|     30|       77|         86|       87|           81|        84|            35|          84|     85|             39|      72|    83|     83|85.0|56.0|64.0|85.0|79.0|184941|85.0|62.0|56.0|79.0|64.0|85.0|85.0|83.0|86.0|66.0|       RM LW ST LM |85.0|62.0|56.0|79.0|64.0|85.0|85.0|83.0|86.0|66.0|83.0|\n",
            "| 14|        L. Modrić| 31|https://cdn.sofif...|    Croatia|https://cdn.sofif...|     89|       89|     Real Madrid CF|https://cdn.sofif...|  €57M|€340K|   2228|          75|        62|     93|     94|          92|       84|      78|   79|       86|       71|                77|       13|          9|         7|            14|          9|              55|           76|     67|          83|        82|     66|       80|         79|       88|           92|        73|            73|          71|     82|             80|      58|    90|     74|86.0|72.0|80.0|83.0|86.0|177003|86.0|78.0|72.0|86.0|80.0|83.0|84.0|76.0|83.0|80.0|            CDM CM |86.0|78.0|72.0|86.0|80.0|83.0|84.0|76.0|83.0|80.0|76.0|\n",
            "| 15|          G. Bale| 27|https://cdn.sofif...|      Wales|https://cdn.sofif...|     89|       89|     Real Madrid CF|https://cdn.sofif...|€69.5M|€370K|   2263|          93|        65|     77|     65|          87|       85|      87|   86|       89|       87|                85|       15|         15|        11|             5|          6|              86|           59|     85|          80|        90|     51|       76|         86|       87|           86|        91|            52|          95|     76|             55|      80|    79|     76|86.0|67.0|71.0|87.0|81.0|173731|86.0|72.0|67.0|81.0|71.0|87.0|87.0|87.0|87.0|74.0|                RW |86.0|72.0|67.0|81.0|71.0|87.0|87.0|87.0|87.0|74.0|87.0|\n",
            "| 16|        S. Agüero| 29|https://cdn.sofif...|  Argentina|https://cdn.sofif...|     89|       89|    Manchester City|https://cdn.sofif...|€66.5M|€325K|   2074|          90|        63|     86|     91|          89|       90|      70|   82|       89|       90|                72|       13|         15|         6|            11|         14|              68|           24|     80|          63|        83|     13|       83|         91|       89|           79|        88|            12|          84|     74|             20|      74|    83|     85|85.0|44.0|54.0|87.0|75.0|153079|85.0|52.0|44.0|75.0|54.0|87.0|84.0|86.0|86.0|57.0|                ST |85.0|52.0|44.0|75.0|54.0|87.0|84.0|86.0|86.0|57.0|86.0|\n",
            "| 17|     G. Chiellini| 32|https://cdn.sofif...|      Italy|https://cdn.sofif...|     89|       89|           Juventus|https://cdn.sofif...|  €38M|€225K|   1867|          68|        92|     59|     64|          57|       82|      58|   60|       58|       33|                31|        3|          3|         2|             4|          3|              84|           88|     89|          59|        49|     92|       50|         28|       82|           59|        78|            90|          78|     68|             92|      91|    50|     45|55.0|86.0|76.0|55.0|60.0|138956|55.0|78.0|86.0|60.0|76.0|55.0|58.0|59.0|56.0|75.0|                CB |55.0|78.0|86.0|60.0|76.0|55.0|58.0|59.0|56.0|75.0|59.0|\n",
            "| 18|        G. Buffon| 39|https://cdn.sofif...|      Italy|https://cdn.sofif...|     89|       89|           Juventus|https://cdn.sofif...| €4.5M|€110K|   1335|          49|        38|     55|     49|          28|       70|      13|   20|       26|       15|                13|       89|         88|        74|            90|         84|              13|           28|     75|          35|        13|     10|       22|         12|       80|           37|        39|            11|          43|     39|             11|      69|    50|     17|NULL|NULL|NULL|NULL|NULL|  1179|NULL|NULL|NULL|NULL|NULL|NULL|NULL|NULL|NULL|NULL|                GK |NULL|NULL|NULL|NULL|NULL|NULL|NULL|NULL|NULL|NULL|NULL|\n",
            "| 19|        P. Dybala| 23|https://cdn.sofif...|  Argentina|https://cdn.sofif...|     88|       93|           Juventus|https://cdn.sofif...|  €79M|€215K|   2063|          88|        48|     91|     85|          93|       84|      80|   88|       92|       85|                84|        5|          4|         4|             5|          8|              68|           24|     75|          71|        88|     14|       86|         84|       84|           83|        82|            20|          84|     83|             20|      65|    84|     88|86.0|43.0|55.0|86.0|78.0|211110|86.0|55.0|43.0|78.0|55.0|86.0|86.0|83.0|87.0|60.0|            ST CAM |86.0|55.0|43.0|78.0|55.0|86.0|86.0|83.0|87.0|60.0|83.0|\n",
            "+---+-----------------+---+--------------------+-----------+--------------------+-------+---------+-------------------+--------------------+------+-----+-------+------------+----------+-------+-------+------------+---------+--------+-----+---------+---------+------------------+---------+-----------+----------+--------------+-----------+----------------+-------------+-------+------------+----------+-------+---------+-----------+---------+-------------+----------+--------------+------------+-------+---------------+--------+------+-------+----+----+----+----+----+------+----+----+----+----+----+----+----+----+----+----+-------------------+----+----+----+----+----+----+----+----+----+----+----+\n",
            "only showing top 20 rows\n",
            "\n"
          ]
        }
      ]
    },
    {
      "cell_type": "code",
      "source": [
        "fifa_df.printSchema()"
      ],
      "metadata": {
        "colab": {
          "base_uri": "https://localhost:8080/"
        },
        "id": "k3UaeZfHqXQ5",
        "outputId": "986579b6-747e-49f5-afc2-2af2e8ea0a98"
      },
      "execution_count": 14,
      "outputs": [
        {
          "output_type": "stream",
          "name": "stdout",
          "text": [
            "root\n",
            " |-- _c0: integer (nullable = true)\n",
            " |-- Name: string (nullable = true)\n",
            " |-- Age: integer (nullable = true)\n",
            " |-- Photo: string (nullable = true)\n",
            " |-- Nationality: string (nullable = true)\n",
            " |-- Flag: string (nullable = true)\n",
            " |-- Overall: integer (nullable = true)\n",
            " |-- Potential: integer (nullable = true)\n",
            " |-- Club: string (nullable = true)\n",
            " |-- Club Logo: string (nullable = true)\n",
            " |-- Value: string (nullable = true)\n",
            " |-- Wage: string (nullable = true)\n",
            " |-- Special: integer (nullable = true)\n",
            " |-- Acceleration: string (nullable = true)\n",
            " |-- Aggression: string (nullable = true)\n",
            " |-- Agility: string (nullable = true)\n",
            " |-- Balance: string (nullable = true)\n",
            " |-- Ball control: string (nullable = true)\n",
            " |-- Composure: string (nullable = true)\n",
            " |-- Crossing: string (nullable = true)\n",
            " |-- Curve: string (nullable = true)\n",
            " |-- Dribbling: string (nullable = true)\n",
            " |-- Finishing: string (nullable = true)\n",
            " |-- Free kick accuracy: string (nullable = true)\n",
            " |-- GK diving: string (nullable = true)\n",
            " |-- GK handling: string (nullable = true)\n",
            " |-- GK kicking: string (nullable = true)\n",
            " |-- GK positioning: string (nullable = true)\n",
            " |-- GK reflexes: string (nullable = true)\n",
            " |-- Heading accuracy: string (nullable = true)\n",
            " |-- Interceptions: string (nullable = true)\n",
            " |-- Jumping: string (nullable = true)\n",
            " |-- Long passing: string (nullable = true)\n",
            " |-- Long shots: string (nullable = true)\n",
            " |-- Marking: string (nullable = true)\n",
            " |-- Penalties: string (nullable = true)\n",
            " |-- Positioning: string (nullable = true)\n",
            " |-- Reactions: string (nullable = true)\n",
            " |-- Short passing: string (nullable = true)\n",
            " |-- Shot power: string (nullable = true)\n",
            " |-- Sliding tackle: string (nullable = true)\n",
            " |-- Sprint speed: string (nullable = true)\n",
            " |-- Stamina: string (nullable = true)\n",
            " |-- Standing tackle: string (nullable = true)\n",
            " |-- Strength: string (nullable = true)\n",
            " |-- Vision: string (nullable = true)\n",
            " |-- Volleys: string (nullable = true)\n",
            " |-- CAM: double (nullable = true)\n",
            " |-- CB: double (nullable = true)\n",
            " |-- CDM: double (nullable = true)\n",
            " |-- CF: double (nullable = true)\n",
            " |-- CM: double (nullable = true)\n",
            " |-- ID: integer (nullable = true)\n",
            " |-- LAM: double (nullable = true)\n",
            " |-- LB: double (nullable = true)\n",
            " |-- LCB: double (nullable = true)\n",
            " |-- LCM: double (nullable = true)\n",
            " |-- LDM: double (nullable = true)\n",
            " |-- LF: double (nullable = true)\n",
            " |-- LM: double (nullable = true)\n",
            " |-- LS: double (nullable = true)\n",
            " |-- LW: double (nullable = true)\n",
            " |-- LWB: double (nullable = true)\n",
            " |-- Preferred Positions: string (nullable = true)\n",
            " |-- RAM: double (nullable = true)\n",
            " |-- RB: double (nullable = true)\n",
            " |-- RCB: double (nullable = true)\n",
            " |-- RCM: double (nullable = true)\n",
            " |-- RDM: double (nullable = true)\n",
            " |-- RF: double (nullable = true)\n",
            " |-- RM: double (nullable = true)\n",
            " |-- RS: double (nullable = true)\n",
            " |-- RW: double (nullable = true)\n",
            " |-- RWB: double (nullable = true)\n",
            " |-- ST: double (nullable = true)\n",
            "\n"
          ]
        }
      ]
    },
    {
      "cell_type": "code",
      "source": [
        "fifa_df.columns"
      ],
      "metadata": {
        "colab": {
          "base_uri": "https://localhost:8080/"
        },
        "id": "f6UJDU_9rXZo",
        "outputId": "c5a0a6b6-b88b-47bd-9ac9-aff2becbba4f"
      },
      "execution_count": 18,
      "outputs": [
        {
          "output_type": "execute_result",
          "data": {
            "text/plain": [
              "['_c0',\n",
              " 'Name',\n",
              " 'Age',\n",
              " 'Photo',\n",
              " 'Nationality',\n",
              " 'Flag',\n",
              " 'Overall',\n",
              " 'Potential',\n",
              " 'Club',\n",
              " 'Club Logo',\n",
              " 'Value',\n",
              " 'Wage',\n",
              " 'Special',\n",
              " 'Acceleration',\n",
              " 'Aggression',\n",
              " 'Agility',\n",
              " 'Balance',\n",
              " 'Ball control',\n",
              " 'Composure',\n",
              " 'Crossing',\n",
              " 'Curve',\n",
              " 'Dribbling',\n",
              " 'Finishing',\n",
              " 'Free kick accuracy',\n",
              " 'GK diving',\n",
              " 'GK handling',\n",
              " 'GK kicking',\n",
              " 'GK positioning',\n",
              " 'GK reflexes',\n",
              " 'Heading accuracy',\n",
              " 'Interceptions',\n",
              " 'Jumping',\n",
              " 'Long passing',\n",
              " 'Long shots',\n",
              " 'Marking',\n",
              " 'Penalties',\n",
              " 'Positioning',\n",
              " 'Reactions',\n",
              " 'Short passing',\n",
              " 'Shot power',\n",
              " 'Sliding tackle',\n",
              " 'Sprint speed',\n",
              " 'Stamina',\n",
              " 'Standing tackle',\n",
              " 'Strength',\n",
              " 'Vision',\n",
              " 'Volleys',\n",
              " 'CAM',\n",
              " 'CB',\n",
              " 'CDM',\n",
              " 'CF',\n",
              " 'CM',\n",
              " 'ID',\n",
              " 'LAM',\n",
              " 'LB',\n",
              " 'LCB',\n",
              " 'LCM',\n",
              " 'LDM',\n",
              " 'LF',\n",
              " 'LM',\n",
              " 'LS',\n",
              " 'LW',\n",
              " 'LWB',\n",
              " 'Preferred Positions',\n",
              " 'RAM',\n",
              " 'RB',\n",
              " 'RCB',\n",
              " 'RCM',\n",
              " 'RDM',\n",
              " 'RF',\n",
              " 'RM',\n",
              " 'RS',\n",
              " 'RW',\n",
              " 'RWB',\n",
              " 'ST']"
            ]
          },
          "metadata": {},
          "execution_count": 18
        }
      ]
    },
    {
      "cell_type": "code",
      "source": [
        "fifa_df.count()"
      ],
      "metadata": {
        "colab": {
          "base_uri": "https://localhost:8080/"
        },
        "id": "vS3u4nDprgsc",
        "outputId": "5eeab9e5-e443-40fc-fa4c-beed693ade2c"
      },
      "execution_count": 19,
      "outputs": [
        {
          "output_type": "execute_result",
          "data": {
            "text/plain": [
              "17981"
            ]
          },
          "metadata": {},
          "execution_count": 19
        }
      ]
    },
    {
      "cell_type": "code",
      "source": [
        "len(fifa_df.columns)"
      ],
      "metadata": {
        "colab": {
          "base_uri": "https://localhost:8080/"
        },
        "id": "h0ut18Jerr_P",
        "outputId": "ab46a9bf-b2eb-45c4-8b1f-31267f823450"
      },
      "execution_count": 20,
      "outputs": [
        {
          "output_type": "execute_result",
          "data": {
            "text/plain": [
              "75"
            ]
          },
          "metadata": {},
          "execution_count": 20
        }
      ]
    },
    {
      "cell_type": "code",
      "source": [
        "fifa_df.select('nAMe', \"age\").show(3)"
      ],
      "metadata": {
        "colab": {
          "base_uri": "https://localhost:8080/"
        },
        "id": "yhgfzHqbslNs",
        "outputId": "0fef5622-39c9-4796-cfab-628583473d8e"
      },
      "execution_count": 25,
      "outputs": [
        {
          "output_type": "stream",
          "name": "stdout",
          "text": [
            "+-----------------+---+\n",
            "|             nAMe|age|\n",
            "+-----------------+---+\n",
            "|Cristiano Ronaldo| 32|\n",
            "|         L. Messi| 30|\n",
            "|           Neymar| 25|\n",
            "+-----------------+---+\n",
            "only showing top 3 rows\n",
            "\n"
          ]
        }
      ]
    },
    {
      "cell_type": "code",
      "source": [
        "fifa_df.filter(fifa_df[\"age\"] < 25).show()"
      ],
      "metadata": {
        "colab": {
          "base_uri": "https://localhost:8080/"
        },
        "id": "zgLllFyEsosl",
        "outputId": "d6d39c10-b7e6-49d3-b6bc-afb87020eabb"
      },
      "execution_count": 29,
      "outputs": [
        {
          "output_type": "stream",
          "name": "stdout",
          "text": [
            "+---+--------------+---+--------------------+-----------+--------------------+-------+---------+--------------------+--------------------+------+-----+-------+------------+----------+-------+-------+------------+---------+--------+-----+---------+---------+------------------+---------+-----------+----------+--------------+-----------+----------------+-------------+-------+------------+----------+-------+---------+-----------+---------+-------------+----------+--------------+------------+-------+---------------+--------+------+-------+----+----+----+----+----+------+----+----+----+----+----+----+----+----+----+----+-------------------+----+----+----+----+----+----+----+----+----+----+----+\n",
            "|_c0|          Name|Age|               Photo|Nationality|                Flag|Overall|Potential|                Club|           Club Logo| Value| Wage|Special|Acceleration|Aggression|Agility|Balance|Ball control|Composure|Crossing|Curve|Dribbling|Finishing|Free kick accuracy|GK diving|GK handling|GK kicking|GK positioning|GK reflexes|Heading accuracy|Interceptions|Jumping|Long passing|Long shots|Marking|Penalties|Positioning|Reactions|Short passing|Shot power|Sliding tackle|Sprint speed|Stamina|Standing tackle|Strength|Vision|Volleys| CAM|  CB| CDM|  CF|  CM|    ID| LAM|  LB| LCB| LCM| LDM|  LF|  LM|  LS|  LW| LWB|Preferred Positions| RAM|  RB| RCB| RCM| RDM|  RF|  RM|  RS|  RW| RWB|  ST|\n",
            "+---+--------------+---+--------------------+-----------+--------------------+-------+---------+--------------------+--------------------+------+-----+-------+------------+----------+-------+-------+------------+---------+--------+-----+---------+---------+------------------+---------+-----------+----------+--------------+-----------+----------------+-------------+-------+------------+----------+-------+---------+-----------+---------+-------------+----------+--------------+------------+-------+---------------+--------+------+-------+----+----+----+----+----+------+----+----+----+----+----+----+----+----+----+----+-------------------+----+----+----+----+----+----+----+----+----+----+----+\n",
            "| 19|     P. Dybala| 23|https://cdn.sofif...|  Argentina|https://cdn.sofif...|     88|       93|            Juventus|https://cdn.sofif...|  €79M|€215K|   2063|          88|        48|     91|     85|          93|       84|      80|   88|       92|       85|                84|        5|          4|         4|             5|          8|              68|           24|     75|          71|        88|     14|       86|         84|       84|           83|        82|            20|          84|     83|             20|      65|    84|     88|86.0|43.0|55.0|86.0|78.0|211110|86.0|55.0|43.0|78.0|55.0|86.0|86.0|83.0|87.0|60.0|            ST CAM |86.0|55.0|43.0|78.0|55.0|86.0|86.0|83.0|87.0|60.0|83.0|\n",
            "| 20|      J. Oblak| 24|https://cdn.sofif...|   Slovenia|https://cdn.sofif...|     88|       93|     Atlético Madrid|https://cdn.sofif...|  €57M| €82K|   1290|          43|        34|     67|     49|          16|       55|      13|   13|       12|       11|                14|       84|         90|        77|            87|         84|              15|           19|     76|          26|        12|     14|       11|         11|       84|           29|        22|            18|          60|     41|             12|      78|    55|     13|NULL|NULL|NULL|NULL|NULL|200389|NULL|NULL|NULL|NULL|NULL|NULL|NULL|NULL|NULL|NULL|                GK |NULL|NULL|NULL|NULL|NULL|NULL|NULL|NULL|NULL|NULL|NULL|\n",
            "| 34|   M. Verratti| 24|https://cdn.sofif...|      Italy|https://cdn.sofif...|     87|       91| Paris Saint-Germain|https://cdn.sofif...|€64.5M|€130K|   2154|          69|        89|     87|     94|          88|       91|      72|   73|       90|       58|                64|       12|         12|        15|            15|         10|              55|           86|     64|          89|        58|     76|       64|         71|       87|           90|        56|            79|          62|     77|             84|      56|    88|     64|82.0|77.0|84.0|77.0|85.0|199556|82.0|79.0|77.0|85.0|84.0|77.0|80.0|69.0|78.0|80.0|            CDM CM |82.0|79.0|77.0|85.0|84.0|77.0|80.0|69.0|78.0|80.0|69.0|\n",
            "| 35|      P. Pogba| 24|https://cdn.sofif...|     France|https://cdn.sofif...|     87|       92|   Manchester United|https://cdn.sofif...|€66.5M|€195K|   2238|          72|        75|     76|     61|          89|       85|      78|   84|       86|       71|                82|        5|          6|         2|             4|          3|              73|           68|     85|          88|        82|     66|       76|         83|       84|           86|        90|            66|          76|     91|             68|      91|    86|     85|84.0|74.0|79.0|83.0|84.0|195864|84.0|75.0|74.0|84.0|79.0|83.0|83.0|81.0|82.0|77.0|            CDM CM |84.0|75.0|74.0|84.0|79.0|83.0|83.0|81.0|82.0|77.0|81.0|\n",
            "| 46|       H. Kane| 23|https://cdn.sofif...|    England|https://cdn.sofif...|     86|       90|   Tottenham Hotspur|https://cdn.sofif...|  €59M|€165K|   2057|          68|        74|     73|     62|          82|       84|      70|   71|       78|       90|                66|        8|         10|        11|            14|         11|              83|           35|     70|          67|        84|     41|       84|         89|       87|           75|        87|            38|          74|     85|             36|      86|    75|     73|79.0|57.0|62.0|82.0|74.0|202126|79.0|60.0|57.0|74.0|62.0|82.0|78.0|84.0|79.0|62.0|                ST |79.0|60.0|57.0|74.0|62.0|82.0|78.0|84.0|79.0|62.0|84.0|\n",
            "| 50|     R. Lukaku| 24|https://cdn.sofif...|    Belgium|https://cdn.sofif...|     86|       90|   Manchester United|https://cdn.sofif...|  €59M|€210K|   1997|          76|        72|     62|     47|          75|       84|      68|   72|       77|       89|                66|        8|         15|        14|             7|         10|              87|           27|     71|          68|        75|     27|       82|         87|       85|           71|        88|            30|          89|     80|             30|      93|    73|     76|77.0|53.0|57.0|80.0|71.0|192505|77.0|56.0|53.0|71.0|57.0|80.0|77.0|84.0|78.0|58.0|                ST |77.0|56.0|53.0|71.0|57.0|80.0|77.0|84.0|78.0|58.0|84.0|\n",
            "| 69|   Y. Carrasco| 23|https://cdn.sofif...|    Belgium|https://cdn.sofif...|     85|       90|     Atlético Madrid|https://cdn.sofif...|€51.5M| €77K|   1991|          87|        61|     91|     71|          86|       75|      80|   81|       91|       79|                78|        9|         11|         9|            10|         10|              53|           18|     68|          74|        75|     19|       74|         82|       83|           79|        84|            26|          89|     73|             39|      59|    74|     68|82.0|45.0|56.0|83.0|74.0|208418|82.0|56.0|45.0|74.0|56.0|83.0|83.0|79.0|84.0|60.0|             RM LM |82.0|56.0|45.0|74.0|56.0|83.0|83.0|79.0|84.0|60.0|79.0|\n",
            "| 70|     R. Varane| 24|https://cdn.sofif...|     France|https://cdn.sofif...|     85|       92|      Real Madrid CF|https://cdn.sofif...|€46.5M|€175K|   1875|          77|        77|     58|     47|          77|       82|      36|   46|       57|       40|                54|       11|         11|         9|             5|         14|              83|           82|     80|          76|        53|     84|       43|         44|       81|           75|        52|            85|          81|     68|             86|      85|    56|     42|64.0|83.0|79.0|62.0|69.0|201535|64.0|77.0|83.0|69.0|79.0|62.0|63.0|62.0|61.0|73.0|                CB |64.0|77.0|83.0|69.0|79.0|62.0|63.0|62.0|61.0|73.0|62.0|\n",
            "| 92|     E. Bailly| 23|https://cdn.sofif...|Ivory Coast|https://cdn.sofif...|     84|       89|   Manchester United|https://cdn.sofif...|€35.5M|€150K|   1890|          75|        87|     63|     63|          68|       74|      51|   46|       63|       33|                43|       14|         14|        10|             9|          8|              81|           85|     84|          56|        48|     82|       46|         47|       78|           72|        55|            85|          80|     78|             85|      85|    54|     42|61.0|83.0|76.0|61.0|65.0|225508|61.0|77.0|83.0|65.0|76.0|61.0|63.0|60.0|61.0|75.0|                CB |61.0|77.0|83.0|65.0|76.0|61.0|63.0|60.0|61.0|75.0|60.0|\n",
            "| 93| Marco Asensio| 21|https://cdn.sofif...|      Spain|https://cdn.sofif...|     84|       92|      Real Madrid CF|https://cdn.sofif...|  €46M|€175K|   1998|          79|        45|     78|     76|          86|       82|      79|   83|       83|       82|                76|       13|          9|         6|            12|         10|              50|           45|     57|          81|        87|     29|       62|         72|       78|           86|        84|            39|          77|     73|             42|      61|    83|     75|82.0|50.0|62.0|81.0|78.0|220834|82.0|60.0|50.0|78.0|62.0|81.0|81.0|77.0|81.0|65.0|      LW LM RM CAM |82.0|60.0|50.0|78.0|62.0|81.0|81.0|77.0|81.0|65.0|77.0|\n",
            "| 94|Bernardo Silva| 22|https://cdn.sofif...|   Portugal|https://cdn.sofif...|     84|       91|     Manchester City|https://cdn.sofif...|€43.5M|€165K|   2012|          85|        58|     88|     86|          89|       84|      79|   79|       91|       76|                63|        9|         10|        14|            12|          9|              51|           49|     53|          78|        64|     46|       64|         77|       84|           84|        72|            35|          78|     80|             44|      54|    85|     66|83.0|53.0|66.0|82.0|79.0|218667|83.0|63.0|53.0|79.0|66.0|82.0|83.0|75.0|83.0|68.0|                RM |83.0|63.0|53.0|79.0|66.0|82.0|83.0|75.0|83.0|68.0|75.0|\n",
            "| 95|    A. Laporte| 23|https://cdn.sofif...|     France|https://cdn.sofif...|     84|       89|Athletic Club de ...|https://cdn.sofif...|€35.5M| €36K|   1919|          68|        72|     49|     55|          71|       74|      58|   62|       55|       45|                77|       10|         11|         5|            14|          5|              85|           85|     77|          78|        47|     86|       35|         54|       82|           73|        70|            85|          70|     71|             88|      84|    52|     40|62.0|83.0|79.0|62.0|69.0|212218|62.0|78.0|83.0|69.0|79.0|62.0|64.0|64.0|61.0|75.0|                CB |62.0|78.0|83.0|69.0|79.0|62.0|64.0|64.0|61.0|75.0|64.0|\n",
            "| 96|       D. Alli| 21|https://cdn.sofif...|    England|https://cdn.sofif...|     84|       90|   Tottenham Hotspur|https://cdn.sofif...|  €43M|€115K|   2122|          77|        84|     74|     62|          85|       86|      68|   71|       83|       84|                53|        7|          6|         9|            11|          8|              75|           67|     69|          76|        79|     60|       68|         86|       85|           83|        77|            57|          76|     89|             63|      71|    83|     76|83.0|69.0|75.0|83.0|81.0|211117|83.0|72.0|69.0|81.0|75.0|83.0|81.0|81.0|81.0|73.0|         LM CF CAM |83.0|72.0|69.0|81.0|75.0|83.0|81.0|81.0|81.0|73.0|81.0|\n",
            "| 99|    J. Draxler| 23|https://cdn.sofif...|    Germany|https://cdn.sofif...|     84|       87| Paris Saint-Germain|https://cdn.sofif...|€39.5M|€120K|   2017|          76|        48|     81|     75|          87|       81|      83|   78|       88|       78|                75|       11|         13|         5|            13|          8|              65|           36|     76|          77|        81|     25|       63|         79|       83|           84|        86|            26|          79|     68|             35|      67|    84|     84|83.0|49.0|59.0|83.0|77.0|202166|83.0|57.0|49.0|77.0|59.0|83.0|82.0|80.0|83.0|62.0|         LM CAM LW |83.0|57.0|49.0|77.0|59.0|83.0|82.0|80.0|83.0|62.0|80.0|\n",
            "|100|     M. Icardi| 24|https://cdn.sofif...|  Argentina|https://cdn.sofif...|     84|       89|               Inter|https://cdn.sofif...|  €42M|€105K|   1866|          75|        55|     74|     76|          77|       82|      46|   58|       74|       89|                45|       13|          9|         5|             7|          9|              84|           22|     92|          54|        70|     17|       78|         89|       83|           73|        81|            21|          80|     70|             21|      74|    64|     81|75.0|46.0|50.0|79.0|67.0|201399|75.0|49.0|46.0|67.0|50.0|79.0|73.0|82.0|75.0|51.0|                ST |75.0|49.0|46.0|67.0|50.0|79.0|73.0|82.0|75.0|51.0|82.0|\n",
            "|101|        Morata| 24|https://cdn.sofif...|      Spain|https://cdn.sofif...|     84|       88|             Chelsea|https://cdn.sofif...|  €41M|€170K|   1862|          78|        54|     62|     56|          84|       79|      73|   76|       83|       82|                44|        4|          5|         4|             4|          5|              79|           24|     79|          51|        78|     14|       72|         83|       81|           78|        80|            20|          86|     70|             14|      82|    76|     81|79.0|45.0|51.0|81.0|70.0|201153|79.0|51.0|45.0|70.0|51.0|81.0|78.0|82.0|80.0|56.0|                ST |79.0|51.0|45.0|70.0|51.0|81.0|78.0|82.0|80.0|56.0|82.0|\n",
            "|103|       T. Horn| 24|https://cdn.sofif...|    Germany|https://cdn.sofif...|     84|       90|          1. FC Köln|https://cdn.sofif...|  €31M| €39K|   1260|          45|        41|     50|     31|          22|       20|      19|   12|       20|       13|                15|       83|         81|        83|            82|         86|              14|           22|     64|          32|        17|     11|       21|         15|       81|           35|        22|            12|          51|     31|             13|      67|    55|     14|NULL|NULL|NULL|NULL|NULL|200316|NULL|NULL|NULL|NULL|NULL|NULL|NULL|NULL|NULL|NULL|                GK |NULL|NULL|NULL|NULL|NULL|NULL|NULL|NULL|NULL|NULL|NULL|\n",
            "|127|     K. Mbappé| 18|https://cdn.sofif...|     France|https://cdn.sofif...|     83|       94| Paris Saint-Germain|https://cdn.sofif...|€41.5M| €31K|   2050|          89|        62|     78|     76|          87|       80|      70|   75|       86|       87|                58|       13|          5|         7|            11|          6|              76|           49|     71|          68|        68|     41|       70|         79|       79|           78|        79|            40|          90|     83|             44|      74|    77|     74|81.0|58.0|64.0|82.0|75.0|231747|81.0|64.0|58.0|75.0|64.0|82.0|81.0|82.0|82.0|67.0|                ST |81.0|64.0|58.0|75.0|64.0|82.0|81.0|82.0|82.0|67.0|82.0|\n",
            "|128|    O. Dembélé| 20|https://cdn.sofif...|     France|https://cdn.sofif...|     83|       92|        FC Barcelona|https://cdn.sofif...|  €40M|€150K|   1969|          93|        54|     90|     85|          85|       73|      77|   78|       92|       77|                65|        6|          6|        14|            10|         13|              43|           36|     59|          68|        65|     29|       75|         78|       82|           74|        82|            33|          89|     74|             30|      47|    84|     76|82.0|45.0|57.0|82.0|74.0|231443|82.0|58.0|45.0|74.0|57.0|82.0|82.0|76.0|83.0|63.0|         CAM LW RW |82.0|58.0|45.0|74.0|57.0|82.0|82.0|76.0|83.0|63.0|76.0|\n",
            "|129|      N. Keïta| 22|https://cdn.sofif...|     Guinea|https://cdn.sofif...|     83|       88|          RB Leipzig|https://cdn.sofif...|  €34M| €68K|   2055|          82|        77|     90|     90|          88|       79|      62|   63|       90|       74|                47|        7|         14|        15|            14|          9|              42|           79|     56|          78|        66|     55|       58|         74|       84|           88|        76|            61|          66|     88|             63|      59|    81|     59|82.0|65.0|76.0|80.0|82.0|220971|82.0|71.0|65.0|82.0|76.0|80.0|81.0|74.0|80.0|75.0|        CAM CDM CM |82.0|71.0|65.0|82.0|76.0|80.0|81.0|74.0|80.0|75.0|74.0|\n",
            "+---+--------------+---+--------------------+-----------+--------------------+-------+---------+--------------------+--------------------+------+-----+-------+------------+----------+-------+-------+------------+---------+--------+-----+---------+---------+------------------+---------+-----------+----------+--------------+-----------+----------------+-------------+-------+------------+----------+-------+---------+-----------+---------+-------------+----------+--------------+------------+-------+---------------+--------+------+-------+----+----+----+----+----+------+----+----+----+----+----+----+----+----+----+----+-------------------+----+----+----+----+----+----+----+----+----+----+----+\n",
            "only showing top 20 rows\n",
            "\n"
          ]
        }
      ]
    },
    {
      "cell_type": "markdown",
      "source": [],
      "metadata": {
        "id": "zP0u-twcu11e"
      }
    },
    {
      "cell_type": "code",
      "source": [
        "fifa_df.filter(fifa_df[\"age\"]  < 35 && fifa_df[\"age\"] > 25 ).show()"
      ],
      "metadata": {
        "colab": {
          "base_uri": "https://localhost:8080/",
          "height": 106
        },
        "id": "9wq-doXYtfBK",
        "outputId": "e9a23aaf-3365-46e2-dc34-4e62f6d2c82d"
      },
      "execution_count": 39,
      "outputs": [
        {
          "output_type": "error",
          "ename": "SyntaxError",
          "evalue": "invalid syntax (<ipython-input-39-5bba2b5bef62>, line 1)",
          "traceback": [
            "\u001b[0;36m  File \u001b[0;32m\"<ipython-input-39-5bba2b5bef62>\"\u001b[0;36m, line \u001b[0;32m1\u001b[0m\n\u001b[0;31m    fifa_df.filter(fifa_df[\"age\"]  < 35 && fifa_df[\"age\"] > 25 ).show()\u001b[0m\n\u001b[0m                                         ^\u001b[0m\n\u001b[0;31mSyntaxError\u001b[0m\u001b[0;31m:\u001b[0m invalid syntax\n"
          ]
        }
      ]
    },
    {
      "cell_type": "code",
      "source": [
        "# prompt: `fifa_df.filter(fifa_df[\"age\"]  < 35 && fifa_df[\"age\"] > 25 ).show()` - find the error\n",
        "\n",
        "# fifa_df.filter(fifa_df[\"age\"]  < 35 && fifa_df[\"age\"] > 25 ).show()\n",
        "\n",
        "# The error is in the filter condition.\n",
        "# In PySpark, you should use the '&' operator for AND and '|' for OR within the filter method, not '&&' and '||'.\n",
        "\n",
        "fifa_df.filter((fifa_df[\"age\"] < 35) & (fifa_df[\"age\"] > 25)).show()"
      ],
      "metadata": {
        "id": "WXYgT92Yu6_K"
      },
      "execution_count": null,
      "outputs": []
    },
    {
      "cell_type": "code",
      "source": [
        "fifa_df.filter((fifa_df[\"age\"] < 35) & (fifa_df[\"age\"] > 25)).show()"
      ],
      "metadata": {
        "colab": {
          "base_uri": "https://localhost:8080/"
        },
        "id": "TUd4_7f9wX-r",
        "outputId": "bf8c393f-47a6-4522-f4e6-d7b1ec56c64e"
      },
      "execution_count": 42,
      "outputs": [
        {
          "output_type": "stream",
          "name": "stdout",
          "text": [
            "+---+-----------------+---+--------------------+-----------+--------------------+-------+---------+-----------------+--------------------+------+-----+-------+------------+----------+-------+-------+------------+---------+--------+-----+---------+---------+------------------+---------+-----------+----------+--------------+-----------+----------------+-------------+-------+------------+----------+-------+---------+-----------+---------+-------------+----------+--------------+------------+-------+---------------+--------+------+-------+----+----+----+----+----+------+----+----+----+----+----+----+----+----+----+----+-------------------+----+----+----+----+----+----+----+----+----+----+----+\n",
            "|_c0|             Name|Age|               Photo|Nationality|                Flag|Overall|Potential|             Club|           Club Logo| Value| Wage|Special|Acceleration|Aggression|Agility|Balance|Ball control|Composure|Crossing|Curve|Dribbling|Finishing|Free kick accuracy|GK diving|GK handling|GK kicking|GK positioning|GK reflexes|Heading accuracy|Interceptions|Jumping|Long passing|Long shots|Marking|Penalties|Positioning|Reactions|Short passing|Shot power|Sliding tackle|Sprint speed|Stamina|Standing tackle|Strength|Vision|Volleys| CAM|  CB| CDM|  CF|  CM|    ID| LAM|  LB| LCB| LCM| LDM|  LF|  LM|  LS|  LW| LWB|Preferred Positions| RAM|  RB| RCB| RCM| RDM|  RF|  RM|  RS|  RW| RWB|  ST|\n",
            "+---+-----------------+---+--------------------+-----------+--------------------+-------+---------+-----------------+--------------------+------+-----+-------+------------+----------+-------+-------+------------+---------+--------+-----+---------+---------+------------------+---------+-----------+----------+--------------+-----------+----------------+-------------+-------+------------+----------+-------+---------+-----------+---------+-------------+----------+--------------+------------+-------+---------------+--------+------+-------+----+----+----+----+----+------+----+----+----+----+----+----+----+----+----+----+-------------------+----+----+----+----+----+----+----+----+----+----+----+\n",
            "|  0|Cristiano Ronaldo| 32|https://cdn.sofif...|   Portugal|https://cdn.sofif...|     94|       94|   Real Madrid CF|https://cdn.sofif...|€95.5M|€565K|   2228|          89|        63|     89|     63|          93|       95|      85|   81|       91|       94|                76|        7|         11|        15|            14|         11|              88|           29|     95|          77|        92|     22|       85|         95|       96|           83|        94|            23|          91|     92|             31|      80|    85|     88|89.0|53.0|62.0|91.0|82.0| 20801|89.0|61.0|53.0|82.0|62.0|91.0|89.0|92.0|91.0|66.0|             ST LW |89.0|61.0|53.0|82.0|62.0|91.0|89.0|92.0|91.0|66.0|92.0|\n",
            "|  1|         L. Messi| 30|https://cdn.sofif...|  Argentina|https://cdn.sofif...|     93|       93|     FC Barcelona|https://cdn.sofif...| €105M|€565K|   2154|          92|        48|     90|     95|          95|       96|      77|   89|       97|       95|                90|        6|         11|        15|            14|          8|              71|           22|     68|          87|        88|     13|       74|         93|       95|           88|        85|            26|          87|     73|             28|      59|    90|     85|92.0|45.0|59.0|92.0|84.0|158023|92.0|57.0|45.0|84.0|59.0|92.0|90.0|88.0|91.0|62.0|                RW |92.0|57.0|45.0|84.0|59.0|92.0|90.0|88.0|91.0|62.0|88.0|\n",
            "|  3|        L. Suárez| 30|https://cdn.sofif...|    Uruguay|https://cdn.sofif...|     92|       92|     FC Barcelona|https://cdn.sofif...|  €97M|€510K|   2291|          88|        78|     86|     60|          91|       83|      77|   86|       86|       94|                84|       27|         25|        31|            33|         37|              77|           41|     69|          64|        86|     30|       85|         92|       93|           83|        87|            38|          77|     89|             45|      80|    84|     88|87.0|58.0|65.0|88.0|80.0|176580|87.0|64.0|58.0|80.0|65.0|88.0|85.0|88.0|87.0|68.0|                ST |87.0|64.0|58.0|80.0|65.0|88.0|85.0|88.0|87.0|68.0|88.0|\n",
            "|  4|         M. Neuer| 31|https://cdn.sofif...|    Germany|https://cdn.sofif...|     92|       92| FC Bayern Munich|https://cdn.sofif...|  €61M|€230K|   1493|          58|        29|     52|     35|          48|       70|      15|   14|       30|       13|                11|       91|         90|        95|            91|         89|              25|           30|     78|          59|        16|     10|       47|         12|       85|           55|        25|            11|          61|     44|             10|      83|    70|     11|NULL|NULL|NULL|NULL|NULL|167495|NULL|NULL|NULL|NULL|NULL|NULL|NULL|NULL|NULL|NULL|                GK |NULL|NULL|NULL|NULL|NULL|NULL|NULL|NULL|NULL|NULL|NULL|\n",
            "|  5|   R. Lewandowski| 28|https://cdn.sofif...|     Poland|https://cdn.sofif...|     91|       91| FC Bayern Munich|https://cdn.sofif...|  €92M|€355K|   2143|          79|        80|     78|     80|          89|       87|      62|   77|       85|       91|                84|       15|          6|        12|             8|         10|              85|           39|     84|          65|        83|     25|       81|         91|       91|           83|        88|            19|          83|     79|             42|      84|    78|     87|84.0|57.0|62.0|87.0|78.0|188545|84.0|58.0|57.0|78.0|62.0|87.0|82.0|88.0|84.0|61.0|                ST |84.0|58.0|57.0|78.0|62.0|87.0|82.0|88.0|84.0|61.0|88.0|\n",
            "|  6|           De Gea| 26|https://cdn.sofif...|      Spain|https://cdn.sofif...|     90|       92|Manchester United|https://cdn.sofif...|€64.5M|€215K|   1458|          57|        38|     60|     43|          42|       64|      17|   21|       18|       13|                19|       90|         85|        87|            86|         90|              21|           30|     67|          51|        12|     13|       40|         12|       88|           50|        31|            13|          58|     40|             21|      64|    68|     13|NULL|NULL|NULL|NULL|NULL|193080|NULL|NULL|NULL|NULL|NULL|NULL|NULL|NULL|NULL|NULL|                GK |NULL|NULL|NULL|NULL|NULL|NULL|NULL|NULL|NULL|NULL|NULL|\n",
            "|  7|        E. Hazard| 26|https://cdn.sofif...|    Belgium|https://cdn.sofif...|     90|       91|          Chelsea|https://cdn.sofif...|€90.5M|€295K|   2096|          93|        54|     93|     91|          92|       87|      80|   82|       93|       83|                79|       11|         12|         6|             8|          8|              57|           41|     59|          81|        82|     25|       86|         85|       85|           86|        79|            22|          87|     79|             27|      65|    86|     79|88.0|47.0|61.0|87.0|81.0|183277|88.0|59.0|47.0|81.0|61.0|87.0|87.0|82.0|88.0|64.0|                LW |88.0|59.0|47.0|81.0|61.0|87.0|87.0|82.0|88.0|64.0|82.0|\n",
            "|  8|         T. Kroos| 27|https://cdn.sofif...|    Germany|https://cdn.sofif...|     90|       90|   Real Madrid CF|https://cdn.sofif...|  €79M|€340K|   2165|          60|        60|     71|     69|          89|       85|      85|   85|       79|       76|                84|       10|         11|        13|             7|         10|              54|           85|     32|          93|        90|     63|       73|         79|       86|           90|        87|            69|          52|     77|             82|      74|    88|     82|83.0|72.0|82.0|81.0|87.0|182521|83.0|76.0|72.0|87.0|82.0|81.0|81.0|77.0|80.0|78.0|            CDM CM |83.0|76.0|72.0|87.0|82.0|81.0|81.0|77.0|80.0|78.0|77.0|\n",
            "|  9|       G. Higuaín| 29|https://cdn.sofif...|  Argentina|https://cdn.sofif...|     90|       90|         Juventus|https://cdn.sofif...|  €77M|€275K|   1961|          78|        50|     75|     69|          85|       86|      68|   74|       84|       91|                62|        5|         12|         7|             5|         10|              86|           20|     79|          59|        82|     12|       70|         92|       88|           75|        88|            18|          80|     72|             22|      85|    70|     88|81.0|46.0|52.0|84.0|71.0|167664|81.0|51.0|46.0|71.0|52.0|84.0|79.0|87.0|82.0|55.0|                ST |81.0|51.0|46.0|71.0|52.0|84.0|79.0|87.0|82.0|55.0|87.0|\n",
            "| 10|     Sergio Ramos| 31|https://cdn.sofif...|      Spain|https://cdn.sofif...|     90|       90|   Real Madrid CF|https://cdn.sofif...|  €52M|€310K|   2153|          75|        84|     79|     60|          84|       80|      66|   73|       61|       60|                67|       11|          8|         9|             7|         11|              91|           88|     93|          72|        55|     86|       68|         52|       85|           78|        79|            91|          77|     84|             89|      81|    63|     66|70.0|87.0|83.0|70.0|74.0|155862|70.0|84.0|87.0|74.0|83.0|70.0|71.0|72.0|69.0|81.0|                CB |70.0|84.0|87.0|74.0|83.0|70.0|71.0|72.0|69.0|81.0|72.0|\n",
            "| 11|     K. De Bruyne| 26|https://cdn.sofif...|    Belgium|https://cdn.sofif...|     89|       92|  Manchester City|https://cdn.sofif...|  €83M|€285K|   2162|          76|        68|     80|     75|          87|       84|      90|   83|       85|       83|                83|       15|         13|         5|            10|         13|              53|           56|     65|          84|        86|     30|       77|         84|       88|           90|        85|            40|          75|     87|             51|      73|    90|     82|86.0|57.0|70.0|85.0|84.0|192985|86.0|66.0|57.0|84.0|70.0|85.0|85.0|81.0|85.0|71.0|         RM CM CAM |86.0|66.0|57.0|84.0|70.0|85.0|85.0|81.0|85.0|71.0|81.0|\n",
            "| 13|       A. Sánchez| 28|https://cdn.sofif...|      Chile|https://cdn.sofif...|     89|       89|          Arsenal|https://cdn.sofif...|€67.5M|€265K|   2181|          88|        80|     90|     87|          87|       86|      80|   78|       90|       85|                78|       10|         10|        15|            12|         13|              70|           42|     85|          73|        82|     30|       77|         86|       87|           81|        84|            35|          84|     85|             39|      72|    83|     83|85.0|56.0|64.0|85.0|79.0|184941|85.0|62.0|56.0|79.0|64.0|85.0|85.0|83.0|86.0|66.0|       RM LW ST LM |85.0|62.0|56.0|79.0|64.0|85.0|85.0|83.0|86.0|66.0|83.0|\n",
            "| 14|        L. Modrić| 31|https://cdn.sofif...|    Croatia|https://cdn.sofif...|     89|       89|   Real Madrid CF|https://cdn.sofif...|  €57M|€340K|   2228|          75|        62|     93|     94|          92|       84|      78|   79|       86|       71|                77|       13|          9|         7|            14|          9|              55|           76|     67|          83|        82|     66|       80|         79|       88|           92|        73|            73|          71|     82|             80|      58|    90|     74|86.0|72.0|80.0|83.0|86.0|177003|86.0|78.0|72.0|86.0|80.0|83.0|84.0|76.0|83.0|80.0|            CDM CM |86.0|78.0|72.0|86.0|80.0|83.0|84.0|76.0|83.0|80.0|76.0|\n",
            "| 15|          G. Bale| 27|https://cdn.sofif...|      Wales|https://cdn.sofif...|     89|       89|   Real Madrid CF|https://cdn.sofif...|€69.5M|€370K|   2263|          93|        65|     77|     65|          87|       85|      87|   86|       89|       87|                85|       15|         15|        11|             5|          6|              86|           59|     85|          80|        90|     51|       76|         86|       87|           86|        91|            52|          95|     76|             55|      80|    79|     76|86.0|67.0|71.0|87.0|81.0|173731|86.0|72.0|67.0|81.0|71.0|87.0|87.0|87.0|87.0|74.0|                RW |86.0|72.0|67.0|81.0|71.0|87.0|87.0|87.0|87.0|74.0|87.0|\n",
            "| 16|        S. Agüero| 29|https://cdn.sofif...|  Argentina|https://cdn.sofif...|     89|       89|  Manchester City|https://cdn.sofif...|€66.5M|€325K|   2074|          90|        63|     86|     91|          89|       90|      70|   82|       89|       90|                72|       13|         15|         6|            11|         14|              68|           24|     80|          63|        83|     13|       83|         91|       89|           79|        88|            12|          84|     74|             20|      74|    83|     85|85.0|44.0|54.0|87.0|75.0|153079|85.0|52.0|44.0|75.0|54.0|87.0|84.0|86.0|86.0|57.0|                ST |85.0|52.0|44.0|75.0|54.0|87.0|84.0|86.0|86.0|57.0|86.0|\n",
            "| 17|     G. Chiellini| 32|https://cdn.sofif...|      Italy|https://cdn.sofif...|     89|       89|         Juventus|https://cdn.sofif...|  €38M|€225K|   1867|          68|        92|     59|     64|          57|       82|      58|   60|       58|       33|                31|        3|          3|         2|             4|          3|              84|           88|     89|          59|        49|     92|       50|         28|       82|           59|        78|            90|          78|     68|             92|      91|    50|     45|55.0|86.0|76.0|55.0|60.0|138956|55.0|78.0|86.0|60.0|76.0|55.0|58.0|59.0|56.0|75.0|                CB |55.0|78.0|86.0|60.0|76.0|55.0|58.0|59.0|56.0|75.0|59.0|\n",
            "| 21|     A. Griezmann| 26|https://cdn.sofif...|     France|https://cdn.sofif...|     88|       91|  Atlético Madrid|https://cdn.sofif...|  €75M|€150K|   2104|          87|        69|     90|     80|          86|       86|      82|   84|       87|       88|                75|       14|          8|        14|            13|         14|              80|           35|     87|          75|        82|     23|       71|         91|       90|           79|        81|            11|          86|     76|             22|      61|    76|     87|84.0|48.0|57.0|85.0|76.0|194765|84.0|56.0|48.0|76.0|57.0|85.0|84.0|85.0|86.0|60.0|          LW RW ST |84.0|56.0|48.0|76.0|57.0|85.0|84.0|85.0|86.0|60.0|85.0|\n",
            "| 22|           Thiago| 26|https://cdn.sofif...|      Spain|https://cdn.sofif...|     88|       90| FC Bayern Munich|https://cdn.sofif...|€70.5M|€225K|   2185|          77|        57|     90|     86|          92|       83|      72|   85|       90|       69|                77|        6|         11|         7|             9|         13|              58|           78|     75|          90|        82|     49|       75|         83|       84|           91|        75|            62|          68|     75|             64|      59|    86|     90|86.0|66.0|76.0|83.0|85.0|189509|86.0|72.0|66.0|85.0|76.0|83.0|83.0|77.0|83.0|75.0|        CDM CAM CM |86.0|72.0|66.0|85.0|76.0|83.0|83.0|77.0|83.0|75.0|77.0|\n",
            "| 23|    P. Aubameyang| 28|https://cdn.sofif...|      Gabon|https://cdn.sofif...|     88|       88|Borussia Dortmund|https://cdn.sofif...|  €61M|€165K|   2078|          95|        43|     77|     70|          82|       84|      77|   78|       82|       88|                74|        6|          9|        15|             9|          9|              79|           48|     77|          64|        79|     28|       79|         89|       87|           77|        81|            36|          96|     79|             25|      77|    77|     86|82.0|52.0|59.0|84.0|74.0|188567|82.0|62.0|52.0|74.0|59.0|84.0|83.0|85.0|84.0|65.0|                ST |82.0|62.0|52.0|74.0|59.0|84.0|83.0|85.0|84.0|65.0|85.0|\n",
            "| 24|       L. Bonucci| 30|https://cdn.sofif...|      Italy|https://cdn.sofif...|     88|       88|            Milan|https://cdn.sofif...|  €44M|€210K|   1995|          62|        82|     60|     52|          75|       84|      44|   56|       69|       39|                61|        2|          2|         3|             2|          4|              88|           90|     85|          85|        65|     84|       70|         38|       86|           79|        74|            88|          72|     73|             88|      85|    74|     58|68.0|86.0|83.0|66.0|75.0|184344|68.0|79.0|86.0|75.0|83.0|66.0|66.0|65.0|63.0|76.0|                CB |68.0|79.0|86.0|75.0|83.0|66.0|66.0|65.0|63.0|76.0|65.0|\n",
            "+---+-----------------+---+--------------------+-----------+--------------------+-------+---------+-----------------+--------------------+------+-----+-------+------------+----------+-------+-------+------------+---------+--------+-----+---------+---------+------------------+---------+-----------+----------+--------------+-----------+----------------+-------------+-------+------------+----------+-------+---------+-----------+---------+-------------+----------+--------------+------------+-------+---------------+--------+------+-------+----+----+----+----+----+------+----+----+----+----+----+----+----+----+----+----+-------------------+----+----+----+----+----+----+----+----+----+----+----+\n",
            "only showing top 20 rows\n",
            "\n"
          ]
        }
      ]
    },
    {
      "cell_type": "code",
      "source": [
        "from pyspark.sql.functions import *\n",
        "df_as1 = fifa_df.alias(\"df_as1\")\n",
        "df_as2 = fifa_df.alias(\"df_as2\")\n",
        "joined_df = df_as1.join(df_as2, col(\"df_as1.Name\") == col(\"df_as2.Name\"), 'inner')\n",
        "joined_df.select(col(\"df_as1.Name\"), col(\"df_as2.Name\"), col(\"df_as2.Age\")).head(10)"
      ],
      "metadata": {
        "colab": {
          "base_uri": "https://localhost:8080/"
        },
        "id": "Wh-0bXJ6xf6P",
        "outputId": "a1fe0996-a6a8-4a11-a145-ee260779ea7d"
      },
      "execution_count": 43,
      "outputs": [
        {
          "output_type": "execute_result",
          "data": {
            "text/plain": [
              "[Row(Name='Cristiano Ronaldo', Name='Cristiano Ronaldo', Age=32),\n",
              " Row(Name='L. Messi', Name='L. Messi', Age=30),\n",
              " Row(Name='Neymar', Name='Neymar', Age=25),\n",
              " Row(Name='L. Suárez', Name='L. Suárez', Age=30),\n",
              " Row(Name='L. Suárez', Name='L. Suárez', Age=30),\n",
              " Row(Name='L. Suárez', Name='L. Suárez', Age=30),\n",
              " Row(Name='M. Neuer', Name='M. Neuer', Age=31),\n",
              " Row(Name='R. Lewandowski', Name='R. Lewandowski', Age=28),\n",
              " Row(Name='De Gea', Name='De Gea', Age=26),\n",
              " Row(Name='E. Hazard', Name='E. Hazard', Age=26)]"
            ]
          },
          "metadata": {},
          "execution_count": 43
        }
      ]
    },
    {
      "cell_type": "code",
      "source": [
        "# prompt: `from pyspark.sql.functions import *\n",
        "# df_as1 = fifa_df.alias(\"df_as1\")\n",
        "# df_as2 = fifa_df.alias(\"df_as2\")\n",
        "# joined_df = df_as1.join(df_as2, col(\"df_as1.Name\") == col(\"df_as2.Name\"), 'inner')\n",
        "# joined_df.select(col(\"df_as1.Name\"), col(\"df_as2.Name\"), col(\"df_as2.Age\")).head(10)` - explain\n",
        "\n",
        "Okay, let's break down the provided PySpark code snippet step-by-step:\n",
        "\n",
        "\n",
        "\n",
        "**1. Creating Aliases:**\n",
        "\n",
        "   ```python\n",
        "   df_as1 = fifa_df.alias(\"df_as1\")\n",
        "   df_as2 = fifa_df.alias(\"df_as2\")\n",
        "   ```\n",
        "\n",
        "   - `fifa_df.alias(\"df_as1\")` creates a new DataFrame view of `fifa_df` named \"df_as1\".  This is essentially giving the `fifa_df` another name for referencing in the join operation.\n",
        "\n",
        "   - Similarly, `fifa_df.alias(\"df_as2\")` creates a second alias \"df_as2\".\n",
        "\n",
        "\n",
        "\n",
        "\n",
        "**2. Performing a Self-Join:**\n",
        "\n",
        "   ```python\n",
        "   joined_df = df_as1.join(df_as2, col(\"df_as1.Name\") == col(\"df_as2.Name\"), 'inner')\n",
        "   ```\n",
        "\n",
        "   - `df_as1.join(df_as2, col(\"df_as1.Name\") == col(\"df_as2.Name\"), 'inner')` joins the `df_as1` and `df_as2` DataFrames (which are both based on `fifa_df`) together.\n",
        "\n",
        "   - `col(\"df_as1.Name\") == col(\"df_as2.Name\")` specifies the join condition.  It's essentially joining the DataFrame based on matching \"Name\" columns in both aliases.\n",
        "\n",
        "   - `'inner'` means only rows where the \"Name\" column matches in both DataFrames will be included in the result (a standard inner join).\n",
        "\n",
        "\n",
        "\n",
        "\n",
        "**3. Selecting Columns:**\n",
        "\n",
        "   ```python\n",
        "   joined_df.select(col(\"df_as1.Name\"), col(\"df_as2.Name\"), col(\"df_as2.Age\")).head(10)\n",
        "   ```\n",
        "\n",
        "   - `joined_df.select(...)` selects specific columns from the `joined_df`.\n",
        "\n",
        "   - `col(\"df_as1.Name\")`, `col(\"df_as2.Name\")`, and `col(\"df_as2.Age\")` specify which columns to retrieve.  Since it's a self-join, the \"Name\" and \"Age\" columns are potentially duplicated, and we are using the alias to explicitly specify which dataframe to refer to.\n",
        "\n",
        "   - `.head(10)` displays the first 10 rows of the resulting DataFrame.\n",
        "\n",
        "\n",
        "**In Summary**\n",
        "\n",
        "\n",
        "The code performs a self-join on the `fifa_df` DataFrame based on the \"Name\" column. It creates two aliases (`df_as1` and `df_as2`) for the original DataFrame. The `join` operation connects the rows where the \"Name\" column in `df_as1` equals the \"Name\" column in `df_as2`. Then the code selects the \"Name\" and \"Age\" columns from the resulting `joined_df` and shows the first 10 rows.\n",
        "\n",
        " This type of self-join might be used for various analysis purposes on a DataFrame, such as finding duplicate names or relationships between rows within the same dataset."
      ],
      "metadata": {
        "id": "ANhenkQ8yKki"
      },
      "execution_count": null,
      "outputs": []
    },
    {
      "cell_type": "code",
      "source": [
        "fifa_df.cube('name', fifa_df.Age).count().show()"
      ],
      "metadata": {
        "colab": {
          "base_uri": "https://localhost:8080/"
        },
        "id": "J2Zi6NqPzzeD",
        "outputId": "e11bc7b2-a5c8-49dc-9086-a391e1a0e26f"
      },
      "execution_count": 44,
      "outputs": [
        {
          "output_type": "stream",
          "name": "stdout",
          "text": [
            "+-------------+---+-----+\n",
            "|         name|Age|count|\n",
            "+-------------+---+-----+\n",
            "|  Diego Costa| 28|    1|\n",
            "|     A. Turan| 30|    1|\n",
            "| Illarramendi| 27|    1|\n",
            "|    De Marcos| 28|    1|\n",
            "|    F. Andone| 24|    1|\n",
            "|     E. Pérez| 31|    1|\n",
            "|       Hilton| 39|    1|\n",
            "|     S. Davis| 32|    1|\n",
            "|    D. Moreno| 31|    1|\n",
            "|D. D'Ambrosio| 28|    1|\n",
            "|  Rafa Soares| 22|    1|\n",
            "|    M. Hedges| 27|    1|\n",
            "|     B. Hamid| 26|    1|\n",
            "|   O. Tannane| 23|    1|\n",
            "|     B. Kayal| 29|    1|\n",
            "|     S. Elana| 36|    1|\n",
            "|S. Kverkvelia| 25|    1|\n",
            "| N. Johansson| 37|    1|\n",
            "|   B. Pearson| 22|    1|\n",
            "|  Gelson Dala| 20|    1|\n",
            "+-------------+---+-----+\n",
            "only showing top 20 rows\n",
            "\n"
          ]
        }
      ]
    },
    {
      "cell_type": "code",
      "source": [
        "fifa_df.select('Name','Club').distinct().head(10)"
      ],
      "metadata": {
        "colab": {
          "base_uri": "https://localhost:8080/"
        },
        "id": "50F1srGm00NQ",
        "outputId": "9523d59c-1048-4eb5-a7d1-ebaba2a3361b"
      },
      "execution_count": 45,
      "outputs": [
        {
          "output_type": "execute_result",
          "data": {
            "text/plain": [
              "[Row(Name='A. Di María', Club='Paris Saint-Germain'),\n",
              " Row(Name='T. Horn', Club='1. FC Köln'),\n",
              " Row(Name='M. Dembélé', Club='Tottenham Hotspur'),\n",
              " Row(Name='Marlos', Club='Shakhtar Donetsk'),\n",
              " Row(Name='G. Castro', Club='Borussia Dortmund'),\n",
              " Row(Name='Bruma', Club='RB Leipzig'),\n",
              " Row(Name='Rafinha', Club='FC Barcelona'),\n",
              " Row(Name='Samu Castillejo', Club='Villarreal CF'),\n",
              " Row(Name='A. Granqvist', Club='FC Krasnodar'),\n",
              " Row(Name='V. Berezutskiy', Club='CSKA Moscow')]"
            ]
          },
          "metadata": {},
          "execution_count": 45
        }
      ]
    },
    {
      "cell_type": "code",
      "source": [
        "fifa_df.orderBy(fifa_df.Age,ascending=0).show()"
      ],
      "metadata": {
        "colab": {
          "base_uri": "https://localhost:8080/"
        },
        "id": "Az7CpjvZ05fN",
        "outputId": "b310d153-3f7c-4539-b9c4-8bd32b179a49"
      },
      "execution_count": 46,
      "outputs": [
        {
          "output_type": "stream",
          "name": "stdout",
          "text": [
            "+-----+-------------+---+--------------------+-------------------+--------------------+-------+---------+--------------------+--------------------+-----+-----+-------+------------+----------+-------+-------+------------+---------+--------+-----+---------+---------+------------------+---------+-----------+----------+--------------+-----------+----------------+-------------+-------+------------+----------+-------+---------+-----------+---------+-------------+----------+--------------+------------+-------+---------------+--------+------+-------+----+----+----+----+----+------+----+----+----+----+----+----+----+----+----+----+-------------------+----+----+----+----+----+----+----+----+----+----+----+\n",
            "|  _c0|         Name|Age|               Photo|        Nationality|                Flag|Overall|Potential|                Club|           Club Logo|Value| Wage|Special|Acceleration|Aggression|Agility|Balance|Ball control|Composure|Crossing|Curve|Dribbling|Finishing|Free kick accuracy|GK diving|GK handling|GK kicking|GK positioning|GK reflexes|Heading accuracy|Interceptions|Jumping|Long passing|Long shots|Marking|Penalties|Positioning|Reactions|Short passing|Shot power|Sliding tackle|Sprint speed|Stamina|Standing tackle|Strength|Vision|Volleys| CAM|  CB| CDM|  CF|  CM|    ID| LAM|  LB| LCB| LCM| LDM|  LF|  LM|  LS|  LW| LWB|Preferred Positions| RAM|  RB| RCB| RCM| RDM|  RF|  RM|  RS|  RW| RWB|  ST|\n",
            "+-----+-------------+---+--------------------+-------------------+--------------------+-------+---------+--------------------+--------------------+-----+-----+-------+------------+----------+-------+-------+------------+---------+--------+-----+---------+---------+------------------+---------+-----------+----------+--------------+-----------+----------------+-------------+-------+------------+----------+-------+---------+-----------+---------+-------------+----------+--------------+------------+-------+---------------+--------+------+-------+----+----+----+----+----+------+----+----+----+----+----+----+----+----+----+----+-------------------+----+----+----+----+----+----+----+----+----+----+----+\n",
            "|17977|B. Richardson| 47|https://cdn.sofif...|            England|https://cdn.sofif...|     46|       46|   Wycombe Wanderers|https://cdn.sofif...|   €0|  €1K|    832|          25|        44|     35|     44|          22|       44|      11|   12|       11|       11|                11|       39|         50|        39|            50|         37|              12|           16|     51|          13|        16|     14|       22|         13|       51|           12|        13|            13|          25|     32|             12|      47|    17|     12|NULL|NULL|NULL|NULL|NULL| 11728|NULL|NULL|NULL|NULL|NULL|NULL|NULL|NULL|NULL|NULL|                GK |NULL|NULL|NULL|NULL|NULL|NULL|NULL|NULL|NULL|NULL|NULL|\n",
            "| 4839|     O. Pérez| 44|https://cdn.sofif...|             Mexico|https://cdn.sofif...|     71|       71|             Pachuca|https://cdn.sofif...|€160K|  €9K|   1244|          60|        26|     69|     69|          23|       50|      19|   12|       12|       14|                20|       70|         64|        65|            73|         74|              24|           12|     85|          27|        18|     11|       23|         12|       72|           26|        24|            11|          57|     41|             12|      66|    40|     13|NULL|NULL|NULL|NULL|NULL|140029|NULL|NULL|NULL|NULL|NULL|NULL|NULL|NULL|NULL|NULL|                GK |NULL|NULL|NULL|NULL|NULL|NULL|NULL|NULL|NULL|NULL|NULL|\n",
            "| 5314| E. El Hadary| 44|https://cdn.sofif...|              Egypt|https://cdn.sofif...|     70|       70|          Al Taawoun|https://cdn.sofif...|€120K|  €7K|   1047|          28|        29|     21|     41|          25|       57|      20|   17|       17|       14|                12|       65|         72|        66|            75|         67|              16|           16|     59|          14|        18|     12|       20|         14|       67|           16|        18|            15|          39|     34|             19|      73|    16|     12|NULL|NULL|NULL|NULL|NULL|188033|NULL|NULL|NULL|NULL|NULL|NULL|NULL|NULL|NULL|NULL|                GK |NULL|NULL|NULL|NULL|NULL|NULL|NULL|NULL|NULL|NULL|NULL|\n",
            "|16696|     D. Coyne| 43|https://cdn.sofif...|              Wales|https://cdn.sofif...|     55|       55|          Shrewsbury|https://cdn.sofif...| €10K|  €1K|   1086|          36|        36|     48|     58|          31|       57|      13|   19|       20|       11|                12|       51|         54|        58|            61|         46|              15|           22|     66|          26|        17|     20|       17|         13|       62|           28|        21|            19|          33|     37|             16|      76|    33|     11|NULL|NULL|NULL|NULL|NULL| 53506|NULL|NULL|NULL|NULL|NULL|NULL|NULL|NULL|NULL|NULL|                GK |NULL|NULL|NULL|NULL|NULL|NULL|NULL|NULL|NULL|NULL|NULL|\n",
            "|16834|    J. Walker| 43|https://cdn.sofif...|            England|https://cdn.sofif...|     55|       55|        Lincoln City|https://cdn.sofif...| €10K|  €1K|   1002|          22|        41|     53|     64|          38|       35|      16|   17|       11|       12|                12|       51|         53|        48|            56|         56|              11|           17|     56|          36|        11|     11|       15|         14|       54|           22|        22|            13|          35|     19|             11|      62|    32|     11|NULL|NULL|NULL|NULL|NULL| 53643|NULL|NULL|NULL|NULL|NULL|NULL|NULL|NULL|NULL|NULL|                GK |NULL|NULL|NULL|NULL|NULL|NULL|NULL|NULL|NULL|NULL|NULL|\n",
            "| 6654|         Quim| 41|https://cdn.sofif...|           Portugal|https://cdn.sofif...|     69|       69|             CD Aves|https://cdn.sofif...| €70K|  €3K|   1215|          31|        37|     62|     59|          28|       57|      17|   19|       14|       12|                12|       65|         66|        64|            74|         72|              11|           22|     78|          33|        14|     17|       19|         14|       61|           27|        33|            12|          36|     40|             13|      68|    65|     20|NULL|NULL|NULL|NULL|NULL| 20731|NULL|NULL|NULL|NULL|NULL|NULL|NULL|NULL|NULL|NULL|                GK |NULL|NULL|NULL|NULL|NULL|NULL|NULL|NULL|NULL|NULL|NULL|\n",
            "|16121|       C. Day| 41|https://cdn.sofif...|            England|https://cdn.sofif...|     57|       57|           Stevenage|https://cdn.sofif...| €10K|  €1K|    825|          11|        23|     20|     37|          16|       40|       8|   14|        7|        8|                 9|     54-3|       53-1|        45|          61-1|       56-4|              17|           13|     50|          29|         9|      9|       13|          7|       64|           21|        12|            17|          12|     25|             11|      56|    23|     15|NULL|NULL|NULL|NULL|NULL|   591|NULL|NULL|NULL|NULL|NULL|NULL|NULL|NULL|NULL|NULL|                GK |NULL|NULL|NULL|NULL|NULL|NULL|NULL|NULL|NULL|NULL|NULL|\n",
            "| 7727|    K. Wæhler| 41|https://cdn.sofif...|             Norway|https://cdn.sofif...|     67|       67|             Sogndal|https://cdn.sofif...|   €0|  €2K|   1336|          38|        80|     33|     56|          45|       66|      38|   23|       27|       25|                26|       12|          8|         6|             6|          8|              69|           69|     75|          38|        35|     66|       22|         30|       65|           48|        66|            63|          31|     30|             65|      73|    37|     23|39.0|66.0|56.0|40.0|44.0|148745|39.0|54.0|66.0|44.0|56.0|40.0|38.0|44.0|37.0|51.0|                CB |39.0|54.0|66.0|44.0|56.0|40.0|38.0|44.0|37.0|51.0|44.0|\n",
            "|13863|     M. Brown| 40|https://cdn.sofif...|            England|https://cdn.sofif...|     61|       61|           Port Vale|https://cdn.sofif...|   €0|  €2K|   1637|          34|        88|     37|     65|          62|       69|      51|   45|       57|       55|                54|        9|          6|        12|             8|         16|              52|           61|     54|          61|        66|     60|       57|         57|       60|           65|        68|            68|          29|     38|             62|      61|    62|     57|58.0|62.0|62.0|57.0|60.0| 53832|58.0|56.0|62.0|60.0|62.0|57.0|54.0|57.0|55.0|56.0|            CDM CM |58.0|56.0|62.0|60.0|62.0|57.0|54.0|57.0|55.0|56.0|57.0|\n",
            "| 3309|   M. Candelo| 40|https://cdn.sofif...|           Colombia|https://cdn.sofif...|     72|       72|Asociacion Deport...|https://cdn.sofif...|   €0|  €2K|   1724|          30|        52|     70|     73|          77|       82|      76|   76|       68|       60|                75|       13|          6|        16|             7|         10|              50|           56|     54|          77|        73|     37|       60|         68|       71|           80|        67|            36|          35|     27|             38|      40|    82|     64|71.0|48.0|58.0|67.0|70.0|176900|71.0|51.0|48.0|70.0|58.0|67.0|66.0|62.0|67.0|54.0|               CAM |71.0|51.0|48.0|70.0|58.0|67.0|66.0|62.0|67.0|54.0|62.0|\n",
            "|16584|     W. Brown| 40|https://cdn.sofif...|            England|https://cdn.sofif...|     56|       56|       Oxford United|https://cdn.sofif...| €10K|  €1K|    885|          36|        36|     31|     35|          19|       29|      11|   16|       19|       11|                12|       57|         54|        48|            50|         62|              11|           23|     36|          13|        11|     12|       14|         16|       52|           16|        16|            16|          22|     24|             14|      62|    15|     15|NULL|NULL|NULL|NULL|NULL|151208|NULL|NULL|NULL|NULL|NULL|NULL|NULL|NULL|NULL|NULL|                GK |NULL|NULL|NULL|NULL|NULL|NULL|NULL|NULL|NULL|NULL|NULL|\n",
            "| 1408|   M. Storari| 40|https://cdn.sofif...|              Italy|https://cdn.sofif...|     76|       76|               Milan|https://cdn.sofif...|€525K| €38K|   1200|          49|        31|     59|     53|          20|       65|      14|   11|       21|       12|                12|       78|         76|        66|            75|         78|              21|           14|     75|          35|        14|     11|       10|         11|       69|           32|        21|            11|          39|     39|             14|      63|    54|     12|NULL|NULL|NULL|NULL|NULL|137854|NULL|NULL|NULL|NULL|NULL|NULL|NULL|NULL|NULL|NULL|                GK |NULL|NULL|NULL|NULL|NULL|NULL|NULL|NULL|NULL|NULL|NULL|\n",
            "| 2224|     B. Nivet| 40|https://cdn.sofif...|             France|https://cdn.sofif...|     74|       74|        ES Troyes AC|https://cdn.sofif...|   €0| €16K|   1870|          49|        58|     60|     71|          79|       82|      69|   73|       70|       73|                71|       11|          7|         8|            14|          7|              58|           54|     32|          75|        75|     53|       76|         67|       73|           79|        77|            45|          54|     58|             59|      65|    81|     69|73.0|58.0|65.0|72.0|73.0|  3665|73.0|60.0|58.0|73.0|65.0|72.0|70.0|69.0|70.0|62.0|            CM CAM |73.0|60.0|58.0|73.0|65.0|72.0|70.0|69.0|70.0|62.0|69.0|\n",
            "| 3148|    T. Simons| 40|https://cdn.sofif...|            Belgium|https://cdn.sofif...|     73|       73|      Club Brugge KV|https://cdn.sofif...|   €0| €14K|   1786|          32|        72|     31|     59|          68|       75|      53|   46|       57|       54|                64|       14|          8|        16|            15|          6|              75|           83|     60|          66|        61|     69|       90|         55|       64|           73|        71|            70|          34|     76|             74|      76|    67|     27|61.0|72.0|72.0|60.0|68.0| 17605|61.0|66.0|72.0|68.0|72.0|60.0|59.0|60.0|56.0|66.0|         CB CM CDM |61.0|66.0|72.0|68.0|72.0|60.0|59.0|60.0|56.0|66.0|60.0|\n",
            "| 9395|    L. Butrón| 40|https://cdn.sofif...|               Peru|https://cdn.sofif...|     66|       66|                NULL|https://cdn.sofif...|   €0|   €0|   1077|          44|        25|     26|     43|          25|       56|      10|   16|       10|        9|                12|       65|         70|        71|            70|         68|              13|           22|     69|          25|        10|     17|       27|         14|       39|           35|        27|            17|          46|     31|             18|      62|    31|     10|NULL|NULL|NULL|NULL|NULL|169108|NULL|NULL|NULL|NULL|NULL|NULL|NULL|NULL|NULL|NULL|                GK |NULL|NULL|NULL|NULL|NULL|NULL|NULL|NULL|NULL|NULL|NULL|\n",
            "|12169|     M. Tyler| 40|https://cdn.sofif...|            England|https://cdn.sofif...|     63|       63| Peterborough United|https://cdn.sofif...| €20K|  €1K|   1051|          21|        39|     48|     46|          23|       57|      19|   18|       17|        8|                10|       67|         56|        56|            65|         61|              19|           19|     54|          25|        16|     18|        7|         17|       62|           26|        23|            17|          41|     30|             16|      54|    38|     15|NULL|NULL|NULL|NULL|NULL| 18745|NULL|NULL|NULL|NULL|NULL|NULL|NULL|NULL|NULL|NULL|                GK |NULL|NULL|NULL|NULL|NULL|NULL|NULL|NULL|NULL|NULL|NULL|\n",
            "|15262|    A. Faivre| 39|https://cdn.sofif...|             France|https://cdn.sofif...|     59|       59|Bourg en Bresse P...|https://cdn.sofif...| €10K|  €1K|   1518|          30|        57|     61|     64|          57|       51|      66|   47|       50|       38|                25|       16|          7|         8|            16|         16|              65|           68|     60|          57|        30|     69|       57|         52|       50|           58|        44|            69|          29|     32|             71|      64|    62|     23|52.0|64.0|61.0|49.0|55.0|137321|52.0|58.0|64.0|55.0|61.0|49.0|50.0|48.0|50.0|57.0|          LB CB RB |52.0|58.0|64.0|55.0|61.0|49.0|50.0|48.0|50.0|57.0|48.0|\n",
            "|   18|    G. Buffon| 39|https://cdn.sofif...|              Italy|https://cdn.sofif...|     89|       89|            Juventus|https://cdn.sofif...|€4.5M|€110K|   1335|          49|        38|     55|     49|          28|       70|      13|   20|       26|       15|                13|       89|         88|        74|            90|         84|              13|           28|     75|          35|        13|     10|       22|         12|       80|           37|        39|            11|          43|     39|             11|      69|    50|     17|NULL|NULL|NULL|NULL|NULL|  1179|NULL|NULL|NULL|NULL|NULL|NULL|NULL|NULL|NULL|NULL|                GK |NULL|NULL|NULL|NULL|NULL|NULL|NULL|NULL|NULL|NULL|NULL|\n",
            "|16749|   D. Mulcahy| 39|https://cdn.sofif...|Republic of Ireland|https://cdn.sofif...|     55|       55|     Drogheda United|https://cdn.sofif...| €10K|  €1K|   1391|          27|        68|     38|     52|          52|       59|      52|   48|       43|       35|                47|        6|         11|        13|             7|          9|              51|           52|     32|          53|        53|     52|       43|         54|       54|           49|        56|            51|          30|     34|             53|      67|    55|     44|48.0|54.0|52.0|47.0|50.0|149824|48.0|48.0|54.0|50.0|52.0|47.0|46.0|47.0|46.0|47.0|            CDM CB |48.0|48.0|54.0|50.0|52.0|47.0|46.0|47.0|46.0|47.0|47.0|\n",
            "|  853|       Hilton| 39|https://cdn.sofif...|             Brazil|https://cdn.sofif...|     78|       78|Montpellier Hérau...|https://cdn.sofif...|€700K| €18K|   1834|          34|        76|     60|     60|          73|       75|      60|   42|       65|       45|                48|       12|          7|        11|            12|         13|              79|           80|     80|          76|        59|     79|       64|         50|       73|           75|        55|            77|          42|     54|             79|      76|    67|     51|64.0|77.0|75.0|61.0|69.0|153260|64.0|69.0|77.0|69.0|75.0|61.0|61.0|59.0|60.0|68.0|                CB |64.0|69.0|77.0|69.0|75.0|61.0|61.0|59.0|60.0|68.0|59.0|\n",
            "+-----+-------------+---+--------------------+-------------------+--------------------+-------+---------+--------------------+--------------------+-----+-----+-------+------------+----------+-------+-------+------------+---------+--------+-----+---------+---------+------------------+---------+-----------+----------+--------------+-----------+----------------+-------------+-------+------------+----------+-------+---------+-----------+---------+-------------+----------+--------------+------------+-------+---------------+--------+------+-------+----+----+----+----+----+------+----+----+----+----+----+----+----+----+----+----+-------------------+----+----+----+----+----+----+----+----+----+----+----+\n",
            "only showing top 20 rows\n",
            "\n"
          ]
        }
      ]
    },
    {
      "cell_type": "markdown",
      "source": [
        "**visualisation**"
      ],
      "metadata": {
        "id": "ErATq5rS1XXv"
      }
    },
    {
      "cell_type": "code",
      "source": [
        "fifa_df.createOrReplaceTempView (\"FifaView\")"
      ],
      "metadata": {
        "id": "eE1YEomk1A3Z"
      },
      "execution_count": 47,
      "outputs": []
    },
    {
      "cell_type": "code",
      "source": [
        "sqlDF = spark.sql (\"SELECT * FROM FifaView\")\n",
        "sqlDF.show()"
      ],
      "metadata": {
        "colab": {
          "base_uri": "https://localhost:8080/"
        },
        "id": "yZ2xUlcU1kKm",
        "outputId": "cccbd8be-8c7b-4e67-9233-641d5b10ef0a"
      },
      "execution_count": 48,
      "outputs": [
        {
          "output_type": "stream",
          "name": "stdout",
          "text": [
            "+---+-----------------+---+--------------------+-----------+--------------------+-------+---------+-------------------+--------------------+------+-----+-------+------------+----------+-------+-------+------------+---------+--------+-----+---------+---------+------------------+---------+-----------+----------+--------------+-----------+----------------+-------------+-------+------------+----------+-------+---------+-----------+---------+-------------+----------+--------------+------------+-------+---------------+--------+------+-------+----+----+----+----+----+------+----+----+----+----+----+----+----+----+----+----+-------------------+----+----+----+----+----+----+----+----+----+----+----+\n",
            "|_c0|             Name|Age|               Photo|Nationality|                Flag|Overall|Potential|               Club|           Club Logo| Value| Wage|Special|Acceleration|Aggression|Agility|Balance|Ball control|Composure|Crossing|Curve|Dribbling|Finishing|Free kick accuracy|GK diving|GK handling|GK kicking|GK positioning|GK reflexes|Heading accuracy|Interceptions|Jumping|Long passing|Long shots|Marking|Penalties|Positioning|Reactions|Short passing|Shot power|Sliding tackle|Sprint speed|Stamina|Standing tackle|Strength|Vision|Volleys| CAM|  CB| CDM|  CF|  CM|    ID| LAM|  LB| LCB| LCM| LDM|  LF|  LM|  LS|  LW| LWB|Preferred Positions| RAM|  RB| RCB| RCM| RDM|  RF|  RM|  RS|  RW| RWB|  ST|\n",
            "+---+-----------------+---+--------------------+-----------+--------------------+-------+---------+-------------------+--------------------+------+-----+-------+------------+----------+-------+-------+------------+---------+--------+-----+---------+---------+------------------+---------+-----------+----------+--------------+-----------+----------------+-------------+-------+------------+----------+-------+---------+-----------+---------+-------------+----------+--------------+------------+-------+---------------+--------+------+-------+----+----+----+----+----+------+----+----+----+----+----+----+----+----+----+----+-------------------+----+----+----+----+----+----+----+----+----+----+----+\n",
            "|  0|Cristiano Ronaldo| 32|https://cdn.sofif...|   Portugal|https://cdn.sofif...|     94|       94|     Real Madrid CF|https://cdn.sofif...|€95.5M|€565K|   2228|          89|        63|     89|     63|          93|       95|      85|   81|       91|       94|                76|        7|         11|        15|            14|         11|              88|           29|     95|          77|        92|     22|       85|         95|       96|           83|        94|            23|          91|     92|             31|      80|    85|     88|89.0|53.0|62.0|91.0|82.0| 20801|89.0|61.0|53.0|82.0|62.0|91.0|89.0|92.0|91.0|66.0|             ST LW |89.0|61.0|53.0|82.0|62.0|91.0|89.0|92.0|91.0|66.0|92.0|\n",
            "|  1|         L. Messi| 30|https://cdn.sofif...|  Argentina|https://cdn.sofif...|     93|       93|       FC Barcelona|https://cdn.sofif...| €105M|€565K|   2154|          92|        48|     90|     95|          95|       96|      77|   89|       97|       95|                90|        6|         11|        15|            14|          8|              71|           22|     68|          87|        88|     13|       74|         93|       95|           88|        85|            26|          87|     73|             28|      59|    90|     85|92.0|45.0|59.0|92.0|84.0|158023|92.0|57.0|45.0|84.0|59.0|92.0|90.0|88.0|91.0|62.0|                RW |92.0|57.0|45.0|84.0|59.0|92.0|90.0|88.0|91.0|62.0|88.0|\n",
            "|  2|           Neymar| 25|https://cdn.sofif...|     Brazil|https://cdn.sofif...|     92|       94|Paris Saint-Germain|https://cdn.sofif...| €123M|€280K|   2100|          94|        56|     96|     82|          95|       92|      75|   81|       96|       89|                84|        9|          9|        15|            15|         11|              62|           36|     61|          75|        77|     21|       81|         90|       88|           81|        80|            33|          90|     78|             24|      53|    80|     83|88.0|46.0|59.0|88.0|79.0|190871|88.0|59.0|46.0|79.0|59.0|88.0|87.0|84.0|89.0|64.0|                LW |88.0|59.0|46.0|79.0|59.0|88.0|87.0|84.0|89.0|64.0|84.0|\n",
            "|  3|        L. Suárez| 30|https://cdn.sofif...|    Uruguay|https://cdn.sofif...|     92|       92|       FC Barcelona|https://cdn.sofif...|  €97M|€510K|   2291|          88|        78|     86|     60|          91|       83|      77|   86|       86|       94|                84|       27|         25|        31|            33|         37|              77|           41|     69|          64|        86|     30|       85|         92|       93|           83|        87|            38|          77|     89|             45|      80|    84|     88|87.0|58.0|65.0|88.0|80.0|176580|87.0|64.0|58.0|80.0|65.0|88.0|85.0|88.0|87.0|68.0|                ST |87.0|64.0|58.0|80.0|65.0|88.0|85.0|88.0|87.0|68.0|88.0|\n",
            "|  4|         M. Neuer| 31|https://cdn.sofif...|    Germany|https://cdn.sofif...|     92|       92|   FC Bayern Munich|https://cdn.sofif...|  €61M|€230K|   1493|          58|        29|     52|     35|          48|       70|      15|   14|       30|       13|                11|       91|         90|        95|            91|         89|              25|           30|     78|          59|        16|     10|       47|         12|       85|           55|        25|            11|          61|     44|             10|      83|    70|     11|NULL|NULL|NULL|NULL|NULL|167495|NULL|NULL|NULL|NULL|NULL|NULL|NULL|NULL|NULL|NULL|                GK |NULL|NULL|NULL|NULL|NULL|NULL|NULL|NULL|NULL|NULL|NULL|\n",
            "|  5|   R. Lewandowski| 28|https://cdn.sofif...|     Poland|https://cdn.sofif...|     91|       91|   FC Bayern Munich|https://cdn.sofif...|  €92M|€355K|   2143|          79|        80|     78|     80|          89|       87|      62|   77|       85|       91|                84|       15|          6|        12|             8|         10|              85|           39|     84|          65|        83|     25|       81|         91|       91|           83|        88|            19|          83|     79|             42|      84|    78|     87|84.0|57.0|62.0|87.0|78.0|188545|84.0|58.0|57.0|78.0|62.0|87.0|82.0|88.0|84.0|61.0|                ST |84.0|58.0|57.0|78.0|62.0|87.0|82.0|88.0|84.0|61.0|88.0|\n",
            "|  6|           De Gea| 26|https://cdn.sofif...|      Spain|https://cdn.sofif...|     90|       92|  Manchester United|https://cdn.sofif...|€64.5M|€215K|   1458|          57|        38|     60|     43|          42|       64|      17|   21|       18|       13|                19|       90|         85|        87|            86|         90|              21|           30|     67|          51|        12|     13|       40|         12|       88|           50|        31|            13|          58|     40|             21|      64|    68|     13|NULL|NULL|NULL|NULL|NULL|193080|NULL|NULL|NULL|NULL|NULL|NULL|NULL|NULL|NULL|NULL|                GK |NULL|NULL|NULL|NULL|NULL|NULL|NULL|NULL|NULL|NULL|NULL|\n",
            "|  7|        E. Hazard| 26|https://cdn.sofif...|    Belgium|https://cdn.sofif...|     90|       91|            Chelsea|https://cdn.sofif...|€90.5M|€295K|   2096|          93|        54|     93|     91|          92|       87|      80|   82|       93|       83|                79|       11|         12|         6|             8|          8|              57|           41|     59|          81|        82|     25|       86|         85|       85|           86|        79|            22|          87|     79|             27|      65|    86|     79|88.0|47.0|61.0|87.0|81.0|183277|88.0|59.0|47.0|81.0|61.0|87.0|87.0|82.0|88.0|64.0|                LW |88.0|59.0|47.0|81.0|61.0|87.0|87.0|82.0|88.0|64.0|82.0|\n",
            "|  8|         T. Kroos| 27|https://cdn.sofif...|    Germany|https://cdn.sofif...|     90|       90|     Real Madrid CF|https://cdn.sofif...|  €79M|€340K|   2165|          60|        60|     71|     69|          89|       85|      85|   85|       79|       76|                84|       10|         11|        13|             7|         10|              54|           85|     32|          93|        90|     63|       73|         79|       86|           90|        87|            69|          52|     77|             82|      74|    88|     82|83.0|72.0|82.0|81.0|87.0|182521|83.0|76.0|72.0|87.0|82.0|81.0|81.0|77.0|80.0|78.0|            CDM CM |83.0|76.0|72.0|87.0|82.0|81.0|81.0|77.0|80.0|78.0|77.0|\n",
            "|  9|       G. Higuaín| 29|https://cdn.sofif...|  Argentina|https://cdn.sofif...|     90|       90|           Juventus|https://cdn.sofif...|  €77M|€275K|   1961|          78|        50|     75|     69|          85|       86|      68|   74|       84|       91|                62|        5|         12|         7|             5|         10|              86|           20|     79|          59|        82|     12|       70|         92|       88|           75|        88|            18|          80|     72|             22|      85|    70|     88|81.0|46.0|52.0|84.0|71.0|167664|81.0|51.0|46.0|71.0|52.0|84.0|79.0|87.0|82.0|55.0|                ST |81.0|51.0|46.0|71.0|52.0|84.0|79.0|87.0|82.0|55.0|87.0|\n",
            "| 10|     Sergio Ramos| 31|https://cdn.sofif...|      Spain|https://cdn.sofif...|     90|       90|     Real Madrid CF|https://cdn.sofif...|  €52M|€310K|   2153|          75|        84|     79|     60|          84|       80|      66|   73|       61|       60|                67|       11|          8|         9|             7|         11|              91|           88|     93|          72|        55|     86|       68|         52|       85|           78|        79|            91|          77|     84|             89|      81|    63|     66|70.0|87.0|83.0|70.0|74.0|155862|70.0|84.0|87.0|74.0|83.0|70.0|71.0|72.0|69.0|81.0|                CB |70.0|84.0|87.0|74.0|83.0|70.0|71.0|72.0|69.0|81.0|72.0|\n",
            "| 11|     K. De Bruyne| 26|https://cdn.sofif...|    Belgium|https://cdn.sofif...|     89|       92|    Manchester City|https://cdn.sofif...|  €83M|€285K|   2162|          76|        68|     80|     75|          87|       84|      90|   83|       85|       83|                83|       15|         13|         5|            10|         13|              53|           56|     65|          84|        86|     30|       77|         84|       88|           90|        85|            40|          75|     87|             51|      73|    90|     82|86.0|57.0|70.0|85.0|84.0|192985|86.0|66.0|57.0|84.0|70.0|85.0|85.0|81.0|85.0|71.0|         RM CM CAM |86.0|66.0|57.0|84.0|70.0|85.0|85.0|81.0|85.0|71.0|81.0|\n",
            "| 12|      T. Courtois| 25|https://cdn.sofif...|    Belgium|https://cdn.sofif...|     89|       92|            Chelsea|https://cdn.sofif...|  €59M|€190K|   1282|          46|        23|     61|     45|          23|       52|      14|   19|       13|       14|                11|       85|         91|        69|            86|         88|              13|           15|     68|          31|        17|     11|       27|         13|       81|           32|        36|            16|          52|     38|             18|      70|    44|     12|NULL|NULL|NULL|NULL|NULL|192119|NULL|NULL|NULL|NULL|NULL|NULL|NULL|NULL|NULL|NULL|                GK |NULL|NULL|NULL|NULL|NULL|NULL|NULL|NULL|NULL|NULL|NULL|\n",
            "| 13|       A. Sánchez| 28|https://cdn.sofif...|      Chile|https://cdn.sofif...|     89|       89|            Arsenal|https://cdn.sofif...|€67.5M|€265K|   2181|          88|        80|     90|     87|          87|       86|      80|   78|       90|       85|                78|       10|         10|        15|            12|         13|              70|           42|     85|          73|        82|     30|       77|         86|       87|           81|        84|            35|          84|     85|             39|      72|    83|     83|85.0|56.0|64.0|85.0|79.0|184941|85.0|62.0|56.0|79.0|64.0|85.0|85.0|83.0|86.0|66.0|       RM LW ST LM |85.0|62.0|56.0|79.0|64.0|85.0|85.0|83.0|86.0|66.0|83.0|\n",
            "| 14|        L. Modrić| 31|https://cdn.sofif...|    Croatia|https://cdn.sofif...|     89|       89|     Real Madrid CF|https://cdn.sofif...|  €57M|€340K|   2228|          75|        62|     93|     94|          92|       84|      78|   79|       86|       71|                77|       13|          9|         7|            14|          9|              55|           76|     67|          83|        82|     66|       80|         79|       88|           92|        73|            73|          71|     82|             80|      58|    90|     74|86.0|72.0|80.0|83.0|86.0|177003|86.0|78.0|72.0|86.0|80.0|83.0|84.0|76.0|83.0|80.0|            CDM CM |86.0|78.0|72.0|86.0|80.0|83.0|84.0|76.0|83.0|80.0|76.0|\n",
            "| 15|          G. Bale| 27|https://cdn.sofif...|      Wales|https://cdn.sofif...|     89|       89|     Real Madrid CF|https://cdn.sofif...|€69.5M|€370K|   2263|          93|        65|     77|     65|          87|       85|      87|   86|       89|       87|                85|       15|         15|        11|             5|          6|              86|           59|     85|          80|        90|     51|       76|         86|       87|           86|        91|            52|          95|     76|             55|      80|    79|     76|86.0|67.0|71.0|87.0|81.0|173731|86.0|72.0|67.0|81.0|71.0|87.0|87.0|87.0|87.0|74.0|                RW |86.0|72.0|67.0|81.0|71.0|87.0|87.0|87.0|87.0|74.0|87.0|\n",
            "| 16|        S. Agüero| 29|https://cdn.sofif...|  Argentina|https://cdn.sofif...|     89|       89|    Manchester City|https://cdn.sofif...|€66.5M|€325K|   2074|          90|        63|     86|     91|          89|       90|      70|   82|       89|       90|                72|       13|         15|         6|            11|         14|              68|           24|     80|          63|        83|     13|       83|         91|       89|           79|        88|            12|          84|     74|             20|      74|    83|     85|85.0|44.0|54.0|87.0|75.0|153079|85.0|52.0|44.0|75.0|54.0|87.0|84.0|86.0|86.0|57.0|                ST |85.0|52.0|44.0|75.0|54.0|87.0|84.0|86.0|86.0|57.0|86.0|\n",
            "| 17|     G. Chiellini| 32|https://cdn.sofif...|      Italy|https://cdn.sofif...|     89|       89|           Juventus|https://cdn.sofif...|  €38M|€225K|   1867|          68|        92|     59|     64|          57|       82|      58|   60|       58|       33|                31|        3|          3|         2|             4|          3|              84|           88|     89|          59|        49|     92|       50|         28|       82|           59|        78|            90|          78|     68|             92|      91|    50|     45|55.0|86.0|76.0|55.0|60.0|138956|55.0|78.0|86.0|60.0|76.0|55.0|58.0|59.0|56.0|75.0|                CB |55.0|78.0|86.0|60.0|76.0|55.0|58.0|59.0|56.0|75.0|59.0|\n",
            "| 18|        G. Buffon| 39|https://cdn.sofif...|      Italy|https://cdn.sofif...|     89|       89|           Juventus|https://cdn.sofif...| €4.5M|€110K|   1335|          49|        38|     55|     49|          28|       70|      13|   20|       26|       15|                13|       89|         88|        74|            90|         84|              13|           28|     75|          35|        13|     10|       22|         12|       80|           37|        39|            11|          43|     39|             11|      69|    50|     17|NULL|NULL|NULL|NULL|NULL|  1179|NULL|NULL|NULL|NULL|NULL|NULL|NULL|NULL|NULL|NULL|                GK |NULL|NULL|NULL|NULL|NULL|NULL|NULL|NULL|NULL|NULL|NULL|\n",
            "| 19|        P. Dybala| 23|https://cdn.sofif...|  Argentina|https://cdn.sofif...|     88|       93|           Juventus|https://cdn.sofif...|  €79M|€215K|   2063|          88|        48|     91|     85|          93|       84|      80|   88|       92|       85|                84|        5|          4|         4|             5|          8|              68|           24|     75|          71|        88|     14|       86|         84|       84|           83|        82|            20|          84|     83|             20|      65|    84|     88|86.0|43.0|55.0|86.0|78.0|211110|86.0|55.0|43.0|78.0|55.0|86.0|86.0|83.0|87.0|60.0|            ST CAM |86.0|55.0|43.0|78.0|55.0|86.0|86.0|83.0|87.0|60.0|83.0|\n",
            "+---+-----------------+---+--------------------+-----------+--------------------+-------+---------+-------------------+--------------------+------+-----+-------+------------+----------+-------+-------+------------+---------+--------+-----+---------+---------+------------------+---------+-----------+----------+--------------+-----------+----------------+-------------+-------+------------+----------+-------+---------+-----------+---------+-------------+----------+--------------+------------+-------+---------------+--------+------+-------+----+----+----+----+----+------+----+----+----+----+----+----+----+----+----+----+-------------------+----+----+----+----+----+----+----+----+----+----+----+\n",
            "only showing top 20 rows\n",
            "\n"
          ]
        }
      ]
    }
  ]
}